{
 "cells": [
  {
   "cell_type": "code",
   "execution_count": 1,
   "metadata": {},
   "outputs": [
    {
     "name": "stdout",
     "output_type": "stream",
     "text": [
      "Collecting bs4\n",
      "  Downloading bs4-0.0.1.tar.gz (1.1 kB)\n",
      "Requirement already satisfied: selenium in c:\\users\\lucet\\anaconda3\\lib\\site-packages (4.1.5)\n",
      "Requirement already satisfied: webdriver_manager in c:\\users\\lucet\\anaconda3\\lib\\site-packages (3.5.4)\n",
      "Requirement already satisfied: beautifulsoup4 in c:\\users\\lucet\\anaconda3\\lib\\site-packages (from bs4) (4.9.3)\n",
      "Requirement already satisfied: trio~=0.17 in c:\\users\\lucet\\anaconda3\\lib\\site-packages (from selenium) (0.20.0)\n",
      "Requirement already satisfied: urllib3[secure,socks]~=1.26 in c:\\users\\lucet\\anaconda3\\lib\\site-packages (from selenium) (1.26.4)\n",
      "Requirement already satisfied: trio-websocket~=0.9 in c:\\users\\lucet\\anaconda3\\lib\\site-packages (from selenium) (0.9.2)\n",
      "Requirement already satisfied: attrs>=19.2.0 in c:\\users\\lucet\\anaconda3\\lib\\site-packages (from trio~=0.17->selenium) (20.3.0)\n",
      "Requirement already satisfied: sortedcontainers in c:\\users\\lucet\\anaconda3\\lib\\site-packages (from trio~=0.17->selenium) (2.3.0)\n",
      "Requirement already satisfied: outcome in c:\\users\\lucet\\anaconda3\\lib\\site-packages (from trio~=0.17->selenium) (1.1.0)\n",
      "Requirement already satisfied: idna in c:\\users\\lucet\\anaconda3\\lib\\site-packages (from trio~=0.17->selenium) (2.10)\n",
      "Requirement already satisfied: sniffio in c:\\users\\lucet\\anaconda3\\lib\\site-packages (from trio~=0.17->selenium) (1.2.0)\n",
      "Requirement already satisfied: cffi>=1.14 in c:\\users\\lucet\\anaconda3\\lib\\site-packages (from trio~=0.17->selenium) (1.14.5)\n",
      "Requirement already satisfied: async-generator>=1.9 in c:\\users\\lucet\\anaconda3\\lib\\site-packages (from trio~=0.17->selenium) (1.10)\n",
      "Requirement already satisfied: pycparser in c:\\users\\lucet\\anaconda3\\lib\\site-packages (from cffi>=1.14->trio~=0.17->selenium) (2.20)\n",
      "Requirement already satisfied: wsproto>=0.14 in c:\\users\\lucet\\anaconda3\\lib\\site-packages (from trio-websocket~=0.9->selenium) (1.1.0)\n",
      "Requirement already satisfied: PySocks!=1.5.7,<2.0,>=1.5.6 in c:\\users\\lucet\\anaconda3\\lib\\site-packages (from urllib3[secure,socks]~=1.26->selenium) (1.7.1)\n",
      "Requirement already satisfied: certifi in c:\\users\\lucet\\anaconda3\\lib\\site-packages (from urllib3[secure,socks]~=1.26->selenium) (2020.12.5)\n",
      "Requirement already satisfied: pyOpenSSL>=0.14 in c:\\users\\lucet\\anaconda3\\lib\\site-packages (from urllib3[secure,socks]~=1.26->selenium) (20.0.1)\n",
      "Requirement already satisfied: cryptography>=1.3.4 in c:\\users\\lucet\\anaconda3\\lib\\site-packages (from urllib3[secure,socks]~=1.26->selenium) (3.4.7)\n",
      "Requirement already satisfied: six>=1.5.2 in c:\\users\\lucet\\anaconda3\\lib\\site-packages (from pyOpenSSL>=0.14->urllib3[secure,socks]~=1.26->selenium) (1.15.0)\n",
      "Requirement already satisfied: h11<1,>=0.9.0 in c:\\users\\lucet\\anaconda3\\lib\\site-packages (from wsproto>=0.14->trio-websocket~=0.9->selenium) (0.13.0)\n",
      "Requirement already satisfied: requests in c:\\users\\lucet\\anaconda3\\lib\\site-packages (from webdriver_manager) (2.25.1)\n",
      "Requirement already satisfied: soupsieve>1.2 in c:\\users\\lucet\\anaconda3\\lib\\site-packages (from beautifulsoup4->bs4) (2.2.1)\n",
      "Requirement already satisfied: chardet<5,>=3.0.2 in c:\\users\\lucet\\anaconda3\\lib\\site-packages (from requests->webdriver_manager) (4.0.0)\n",
      "Building wheels for collected packages: bs4\n",
      "  Building wheel for bs4 (setup.py): started\n",
      "  Building wheel for bs4 (setup.py): finished with status 'done'\n",
      "  Created wheel for bs4: filename=bs4-0.0.1-py3-none-any.whl size=1273 sha256=9e08a9cf5e894db54c2f5b591a22f3b942d59920ce8e9071d363bff28ebd3c81\n",
      "  Stored in directory: c:\\users\\lucet\\appdata\\local\\pip\\cache\\wheels\\75\\78\\21\\68b124549c9bdc94f822c02fb9aa3578a669843f9767776bca\n",
      "Successfully built bs4\n",
      "Installing collected packages: bs4\n",
      "Successfully installed bs4-0.0.1\n",
      "Note: you may need to restart the kernel to use updated packages.\n"
     ]
    }
   ],
   "source": [
    "%pip install bs4 selenium webdriver_manager"
   ]
  },
  {
   "cell_type": "code",
   "execution_count": 10,
   "metadata": {},
   "outputs": [],
   "source": [
    "import time\n",
    "from bs4 import BeautifulSoup\n",
    "\n",
    "from selenium import webdriver\n",
    "from selenium.common.exceptions import ElementNotInteractableException\n",
    "from selenium.webdriver.chrome.service import Service\n",
    "from selenium.webdriver.common.by import By\n",
    "from webdriver_manager.chrome import ChromeDriverManager\n",
    "\n",
    "class KakaoRouteFinder:\n",
    "    def __init__(self):\n",
    "        self.driver = webdriver.Chrome(service=Service(ChromeDriverManager().install()))\n",
    "\n",
    "    def find_routes(self, origin, dest):\n",
    "        print(origin, dest)\n",
    "\n",
    "        base_url = f\"https://map.kakao.com/?map_type=TYPE_MAP&target=bike&sName={origin}&eName={dest}\"\n",
    "        self.driver.get(base_url)\n",
    "        time.sleep(0.2)\n",
    "\n",
    "        self.driver.find_element(by=By.CSS_SELECTOR, value=\"body\").click()\n",
    "        time.sleep(0.5)\n",
    "        \n",
    "        try:\n",
    "            dimmed_layer_selector = \"#dimmedLayer\"\n",
    "            self.driver.find_element(\n",
    "                by=By.CSS_SELECTOR,\n",
    "            value=dimmed_layer_selector\n",
    "            ).click()\n",
    "        except ElementNotInteractableException:\n",
    "            pass\n",
    "\n",
    "        def fetch_bike():\n",
    "            print(\" > bike\")\n",
    "            self.driver.find_element(by=By.CSS_SELECTOR, value=f\"div.BikeRouteResultView > ul > li:nth-child(1)\").click()        \n",
    "            time.sleep(0.2)\n",
    "            self.driver.find_element(by=By.CSS_SELECTOR, value=f\"div.BikeRouteResultView > ul > li:nth-child(2)\").click()        \n",
    "            time.sleep(0.2)\n",
    "            self.driver.find_element(by=By.CSS_SELECTOR, value=f\"div.BikeRouteResultView > ul > li:nth-child(3)\").click()        \n",
    "            time.sleep(0.2)\n",
    "\n",
    "            element = self.driver.find_element(by=By.CSS_SELECTOR, value=f\"div.BikeRouteResultView\")\n",
    "            return element.get_attribute('innerHTML')\n",
    "        \n",
    "        def fetch_walk():\n",
    "            print(\" > walk\")\n",
    "            self.driver.find_element(by=By.CSS_SELECTOR, value=f\"#walktab\").click()\n",
    "            time.sleep(0.5)\n",
    "\n",
    "            element = self.driver.find_element(by=By.CSS_SELECTOR, value=f\"div.WalkRouteResultView\")\n",
    "            return element.get_attribute('innerHTML')\n",
    "            \n",
    "        def fetch_transit():\n",
    "            print(\" > transit\")\n",
    "            self.driver.find_element(by=By.CSS_SELECTOR, value=f\"#transittab\").click()\n",
    "            time.sleep(0.5)\n",
    "\n",
    "            element = self.driver.find_element(by=By.CSS_SELECTOR, value=f\"ul.TransitTotalPanel\")\n",
    "            return element.get_attribute('innerHTML')\n",
    "\n",
    "        try:\n",
    "            return {\n",
    "                'bike': fetch_bike(),\n",
    "                'walk': fetch_walk(),\n",
    "                'transit': fetch_transit()\n",
    "            }\n",
    "        except:\n",
    "            print('error')\n",
    "\n",
    "    def __del__(self):\n",
    "        self.driver.close()\n"
   ]
  },
  {
   "cell_type": "code",
   "execution_count": 11,
   "metadata": {},
   "outputs": [
    {
     "name": "stderr",
     "output_type": "stream",
     "text": [
      "\n",
      "\n",
      "====== WebDriver manager ======\n",
      "Current google-chrome version is 101.0.4951\n",
      "Get LATEST chromedriver version for 101.0.4951 google-chrome\n",
      "Driver [C:\\Users\\lucet\\.wdm\\drivers\\chromedriver\\win32\\101.0.4951.41\\chromedriver.exe] found in cache\n"
     ]
    },
    {
     "name": "stdout",
     "output_type": "stream",
     "text": [
      "대한건축학회 서울대학교 자하연\n",
      " > bike\n",
      " > walk\n",
      " > transit\n"
     ]
    }
   ],
   "source": [
    "routes = KakaoRouteFinder().find_routes('대한건축학회', '서울대학교 자하연')"
   ]
  },
  {
   "cell_type": "markdown",
   "metadata": {},
   "source": [
    "### Bike"
   ]
  },
  {
   "cell_type": "code",
   "execution_count": 12,
   "metadata": {},
   "outputs": [
    {
     "name": "stdout",
     "output_type": "stream",
     "text": [
      "{'mode': '자전거 도로우선', 'time': '39분', 'distance': '6.4km', 'altitude': '고도 최저 17m, 최고 128m', 'calories': '234kcal'}\n",
      "{'mode': '최단거리', 'time': '38분', 'distance': '6.1km', 'altitude': '고도 최저 17m, 최고 135m', 'calories': '228kcal'}\n",
      "{'mode': '편안한길', 'time': '39분', 'distance': '6.4km', 'altitude': '고도 최저 17m, 최고 128m', 'calories': '234kcal'}\n"
     ]
    }
   ],
   "source": [
    "soup = BeautifulSoup(routes['bike'], 'html.parser')\n",
    "for route in (soup.find_all('li', {\"class\": \"BikeRouteItem\"})):\n",
    "    res = {\n",
    "        \"mode\": route.find('span', {\"class\": \"mode\"}).text,\n",
    "        \"time\": route.find('span', {\"class\": \"time\"}).text.strip(),\n",
    "        \"distance\": route.find('span', {\"class\": \"distance\"}).text,\n",
    "        \"altitude\": route.find('span', {\"class\": \"altitude\"}).text,\n",
    "        \"calories\": route.find('span', {\"class\": \"calories\"}).text,\n",
    "    }\n",
    "    print(res)"
   ]
  },
  {
   "cell_type": "markdown",
   "metadata": {},
   "source": [
    "### Transit"
   ]
  },
  {
   "cell_type": "code",
   "execution_count": 13,
   "metadata": {},
   "outputs": [
    {
     "name": "stdout",
     "output_type": "stream",
     "text": [
      "{'time': '35분', 'info': '도보18분 | 환승1회 | 요금 1,250원 | 7.6km'}\n",
      "{'time': '41분', 'info': '도보13분 | 환승1회 | 요금 1,200원 | 7.3km'}\n",
      "{'time': '39분', 'info': '도보19분 | 환승1회 | 요금 1,250원 | 8.2km'}\n",
      "{'time': '40분', 'info': '도보20분 | 환승1회 | 요금 1,250원 | 7.8km'}\n",
      "{'time': '43분', 'info': '도보12분 | 환승1회 | 요금 1,200원 | 7.5km'}\n",
      "{'time': '39분', 'info': '도보24분 | 환승1회 | 요금 1,250원 | 7.5km'}\n",
      "{'time': '46분', 'info': '도보14분 | 환승1회 | 요금 1,200원 | 8.1km'}\n",
      "{'time': '42분', 'info': '도보14분 | 환승1회 | 요금 1,200원 | 7.3km'}\n",
      "{'time': '44분', 'info': '도보17분 | 환승1회 | 요금 1,200원 | 7.2km'}\n",
      "{'time': '34분', 'info': '도보15분 | 환승2회 | 요금 1,250원 | 7.8km'}\n"
     ]
    }
   ],
   "source": [
    "soup = BeautifulSoup(routes['transit'], 'html.parser')\n",
    "for route in (soup.find_all('li', {\"class\": \"TransitRouteItem\"})):\n",
    "    res = {\n",
    "        \"time\": route.find('span', {\"class\": \"time\"}).text.strip(),\n",
    "        \"info\": route.find('span', {\"class\": \"walkTime\"}).get('title'),\n",
    "    }\n",
    "    print(res)"
   ]
  },
  {
   "cell_type": "markdown",
   "metadata": {},
   "source": [
    "### Walk"
   ]
  },
  {
   "cell_type": "code",
   "execution_count": 14,
   "metadata": {},
   "outputs": [
    {
     "name": "stdout",
     "output_type": "stream",
     "text": [
      "{'mode': '큰길우선', 'time': '1시간 34분', 'info': '계단 1회\\n281kcal소모'}\n",
      "{'mode': '최단거리', 'time': '1시간 26분', 'info': '계단 1회\\n257kcal소모'}\n",
      "{'mode': '편안한길', 'time': '1시간 35분', 'info': '285kcal소모'}\n"
     ]
    }
   ],
   "source": [
    "soup = BeautifulSoup(routes['walk'], 'html.parser')\n",
    "for route in (soup.find_all('li', {\"class\": \"WalkRouteItem\"})):\n",
    "    res = {\n",
    "        \"mode\": route.find('span', {\"class\": \"mode\"}).text,\n",
    "        \"time\": route.find('span', {\"class\": \"time\"}).text.strip(),\n",
    "        \"info\": route.find('div', {\"class\": \"info\"}).text.strip(),\n",
    "    }\n",
    "    print(res)"
   ]
  },
  {
   "cell_type": "markdown",
   "metadata": {},
   "source": [
    "### Coordinate Transform"
   ]
  },
  {
   "cell_type": "code",
   "execution_count": 39,
   "metadata": {},
   "outputs": [
    {
     "name": "stdout",
     "output_type": "stream",
     "text": [
      "Collecting python-dotenv\n",
      "  Downloading python_dotenv-0.20.0-py3-none-any.whl (17 kB)\n",
      "Installing collected packages: python-dotenv\n",
      "Successfully installed python-dotenv-0.20.0\n",
      "Note: you may need to restart the kernel to use updated packages.\n"
     ]
    }
   ],
   "source": [
    "%pip install python-dotenv"
   ]
  },
  {
   "cell_type": "code",
   "execution_count": 24,
   "metadata": {},
   "outputs": [
    {
     "data": {
      "text/plain": [
       "(126.97865225830876, 37.56682600466712)"
      ]
     },
     "execution_count": 24,
     "metadata": {},
     "output_type": "execute_result"
    }
   ],
   "source": [
    "import requests\n",
    "import dotenv\n",
    "from os import environ\n",
    "\n",
    "dotenv.load_dotenv('.env', override=True)\n",
    "\n",
    "def transform(coord, input_coord='WCONGNAMUL', output_coord='WGS84'):\n",
    "    URL = f'https://dapi.kakao.com/v2/local/geo/transcoord.json?x={coord[0]}&y={coord[1]}&input_coord={input_coord}&output_coord={output_coord}'\n",
    "    headers = {'Authorization': f'KakaoAK {environ.get(\"KAKAO_REST_API_KEY\")}'}\n",
    "    new_coord = requests.get(URL, headers=headers).json()['documents'][0]\n",
    "    return (new_coord['x'], new_coord['y'])\n",
    "\n",
    "transform((495285,1129803), 'WCONGNAMUL', 'WGS84')"
   ]
  },
  {
   "cell_type": "code",
   "execution_count": 26,
   "metadata": {},
   "outputs": [
    {
     "name": "stdout",
     "output_type": "stream",
     "text": [
      "https://map.kakao.com/?map_type=TYPE_MAP&target=car&rt=495285,1129803,501139,1109250&rt1=org&rt2=des\n"
     ]
    }
   ],
   "source": [
    "(org, des) = ('org', 'des')\n",
    "(org_x, org_y) = transform((126.97865225830876, 37.56682600466712), 'WGS84', 'WCONGNAMUL')\n",
    "(des_x, des_y) = transform((127.00515186540567, 37.49275468135762), 'WGS84', 'WCONGNAMUL')\n",
    "print(f'https://map.kakao.com/?map_type=TYPE_MAP&target=car&rt={int(org_x)},{int(org_y)},{int(des_x)},{int(des_y)}&rt1={org}&rt2={des}')"
   ]
  }
 ],
 "metadata": {
  "interpreter": {
   "hash": "7357ee85ff53903ea5241e3726a4915c92f341c2a9829a664afcec1d7a92746d"
  },
  "kernelspec": {
   "display_name": "Python 3.8.8 ('base')",
   "language": "python",
   "name": "python3"
  },
  "language_info": {
   "codemirror_mode": {
    "name": "ipython",
    "version": 3
   },
   "file_extension": ".py",
   "mimetype": "text/x-python",
   "name": "python",
   "nbconvert_exporter": "python",
   "pygments_lexer": "ipython3",
   "version": "3.8.8"
  },
  "orig_nbformat": 4
 },
 "nbformat": 4,
 "nbformat_minor": 2
}
