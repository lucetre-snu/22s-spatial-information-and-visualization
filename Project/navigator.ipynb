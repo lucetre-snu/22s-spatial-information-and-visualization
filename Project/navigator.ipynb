{
 "cells": [
  {
   "cell_type": "code",
   "execution_count": 1,
   "metadata": {},
   "outputs": [
    {
     "name": "stdout",
     "output_type": "stream",
     "text": [
      "Collecting bs4\n",
      "  Downloading bs4-0.0.1.tar.gz (1.1 kB)\n",
      "Requirement already satisfied: selenium in c:\\users\\lucet\\anaconda3\\lib\\site-packages (4.1.5)\n",
      "Requirement already satisfied: webdriver_manager in c:\\users\\lucet\\anaconda3\\lib\\site-packages (3.5.4)\n",
      "Requirement already satisfied: beautifulsoup4 in c:\\users\\lucet\\anaconda3\\lib\\site-packages (from bs4) (4.9.3)\n",
      "Requirement already satisfied: trio~=0.17 in c:\\users\\lucet\\anaconda3\\lib\\site-packages (from selenium) (0.20.0)\n",
      "Requirement already satisfied: urllib3[secure,socks]~=1.26 in c:\\users\\lucet\\anaconda3\\lib\\site-packages (from selenium) (1.26.4)\n",
      "Requirement already satisfied: trio-websocket~=0.9 in c:\\users\\lucet\\anaconda3\\lib\\site-packages (from selenium) (0.9.2)\n",
      "Requirement already satisfied: attrs>=19.2.0 in c:\\users\\lucet\\anaconda3\\lib\\site-packages (from trio~=0.17->selenium) (20.3.0)\n",
      "Requirement already satisfied: sortedcontainers in c:\\users\\lucet\\anaconda3\\lib\\site-packages (from trio~=0.17->selenium) (2.3.0)\n",
      "Requirement already satisfied: outcome in c:\\users\\lucet\\anaconda3\\lib\\site-packages (from trio~=0.17->selenium) (1.1.0)\n",
      "Requirement already satisfied: idna in c:\\users\\lucet\\anaconda3\\lib\\site-packages (from trio~=0.17->selenium) (2.10)\n",
      "Requirement already satisfied: sniffio in c:\\users\\lucet\\anaconda3\\lib\\site-packages (from trio~=0.17->selenium) (1.2.0)\n",
      "Requirement already satisfied: cffi>=1.14 in c:\\users\\lucet\\anaconda3\\lib\\site-packages (from trio~=0.17->selenium) (1.14.5)\n",
      "Requirement already satisfied: async-generator>=1.9 in c:\\users\\lucet\\anaconda3\\lib\\site-packages (from trio~=0.17->selenium) (1.10)\n",
      "Requirement already satisfied: pycparser in c:\\users\\lucet\\anaconda3\\lib\\site-packages (from cffi>=1.14->trio~=0.17->selenium) (2.20)\n",
      "Requirement already satisfied: wsproto>=0.14 in c:\\users\\lucet\\anaconda3\\lib\\site-packages (from trio-websocket~=0.9->selenium) (1.1.0)\n",
      "Requirement already satisfied: PySocks!=1.5.7,<2.0,>=1.5.6 in c:\\users\\lucet\\anaconda3\\lib\\site-packages (from urllib3[secure,socks]~=1.26->selenium) (1.7.1)\n",
      "Requirement already satisfied: certifi in c:\\users\\lucet\\anaconda3\\lib\\site-packages (from urllib3[secure,socks]~=1.26->selenium) (2020.12.5)\n",
      "Requirement already satisfied: pyOpenSSL>=0.14 in c:\\users\\lucet\\anaconda3\\lib\\site-packages (from urllib3[secure,socks]~=1.26->selenium) (20.0.1)\n",
      "Requirement already satisfied: cryptography>=1.3.4 in c:\\users\\lucet\\anaconda3\\lib\\site-packages (from urllib3[secure,socks]~=1.26->selenium) (3.4.7)\n",
      "Requirement already satisfied: six>=1.5.2 in c:\\users\\lucet\\anaconda3\\lib\\site-packages (from pyOpenSSL>=0.14->urllib3[secure,socks]~=1.26->selenium) (1.15.0)\n",
      "Requirement already satisfied: h11<1,>=0.9.0 in c:\\users\\lucet\\anaconda3\\lib\\site-packages (from wsproto>=0.14->trio-websocket~=0.9->selenium) (0.13.0)\n",
      "Requirement already satisfied: requests in c:\\users\\lucet\\anaconda3\\lib\\site-packages (from webdriver_manager) (2.25.1)\n",
      "Requirement already satisfied: soupsieve>1.2 in c:\\users\\lucet\\anaconda3\\lib\\site-packages (from beautifulsoup4->bs4) (2.2.1)\n",
      "Requirement already satisfied: chardet<5,>=3.0.2 in c:\\users\\lucet\\anaconda3\\lib\\site-packages (from requests->webdriver_manager) (4.0.0)\n",
      "Building wheels for collected packages: bs4\n",
      "  Building wheel for bs4 (setup.py): started\n",
      "  Building wheel for bs4 (setup.py): finished with status 'done'\n",
      "  Created wheel for bs4: filename=bs4-0.0.1-py3-none-any.whl size=1273 sha256=9e08a9cf5e894db54c2f5b591a22f3b942d59920ce8e9071d363bff28ebd3c81\n",
      "  Stored in directory: c:\\users\\lucet\\appdata\\local\\pip\\cache\\wheels\\75\\78\\21\\68b124549c9bdc94f822c02fb9aa3578a669843f9767776bca\n",
      "Successfully built bs4\n",
      "Installing collected packages: bs4\n",
      "Successfully installed bs4-0.0.1\n",
      "Note: you may need to restart the kernel to use updated packages.\n"
     ]
    }
   ],
   "source": [
    "%pip install bs4 selenium webdriver_manager"
   ]
  },
  {
   "cell_type": "code",
   "execution_count": 150,
   "metadata": {},
   "outputs": [],
   "source": [
    "import pandas as pd\n",
    "\n",
    "df_bus = pd.read_csv('bus.csv', encoding='euc-kr')\n",
    "df_subway = pd.read_csv('subway.csv', encoding='euc-kr')\n",
    "df_bike = pd.read_csv('bike.csv', encoding='cp949')"
   ]
  },
  {
   "cell_type": "code",
   "execution_count": 65,
   "metadata": {},
   "outputs": [
    {
     "name": "stderr",
     "output_type": "stream",
     "text": [
      "\n",
      "\n",
      "====== WebDriver manager ======\n",
      "Current google-chrome version is 101.0.4951\n",
      "Get LATEST chromedriver version for 101.0.4951 google-chrome\n",
      "Driver [C:\\Users\\lucet\\.wdm\\drivers\\chromedriver\\win32\\101.0.4951.41\\chromedriver.exe] found in cache\n"
     ]
    },
    {
     "name": "stdout",
     "output_type": "stream",
     "text": [
      "대한건축학회 서울대학교 자하연\n",
      " > transit\n"
     ]
    }
   ],
   "source": [
    "import time\n",
    "from bs4 import BeautifulSoup\n",
    "\n",
    "from selenium import webdriver\n",
    "from selenium.common.exceptions import ElementNotInteractableException\n",
    "from selenium.webdriver.chrome.service import Service\n",
    "from selenium.webdriver.common.by import By\n",
    "from webdriver_manager.chrome import ChromeDriverManager\n",
    "\n",
    "time_delta = 0.2\n",
    "class KakaoRouteFinder:\n",
    "    def __init__(self):\n",
    "        self.driver = webdriver.Chrome(service=Service(ChromeDriverManager().install()))\n",
    "\n",
    "    def find_routes(self, origin, dest):\n",
    "        print(origin, dest)\n",
    "\n",
    "        base_url = f\"https://map.kakao.com/?map_type=TYPE_MAP&target=bike&sName={origin}&eName={dest}\"\n",
    "        self.driver.get(base_url)\n",
    "        time.sleep(time_delta)\n",
    "\n",
    "        self.driver.find_element(by=By.CSS_SELECTOR, value=\"body\").click()\n",
    "        time.sleep(time_delta)\n",
    "        \n",
    "        try:\n",
    "            dimmed_layer_selector = \"#dimmedLayer\"\n",
    "            self.driver.find_element(\n",
    "                by=By.CSS_SELECTOR,\n",
    "            value=dimmed_layer_selector\n",
    "            ).click()\n",
    "        except ElementNotInteractableException:\n",
    "            pass\n",
    "\n",
    "        def fetch_bike():\n",
    "            print(\" > bike\")\n",
    "            self.driver.find_element(by=By.CSS_SELECTOR, value=f\"div.BikeRouteResultView > ul > li:nth-child(1)\").click()        \n",
    "            time.sleep(time_delta)\n",
    "            self.driver.find_element(by=By.CSS_SELECTOR, value=f\"div.BikeRouteResultView > ul > li:nth-child(2)\").click()        \n",
    "            time.sleep(time_delta)\n",
    "            self.driver.find_element(by=By.CSS_SELECTOR, value=f\"div.BikeRouteResultView > ul > li:nth-child(3)\").click()        \n",
    "            time.sleep(time_delta)\n",
    "\n",
    "            element = self.driver.find_element(by=By.CSS_SELECTOR, value=f\"div.BikeRouteResultView\")\n",
    "            return element.get_attribute('innerHTML')\n",
    "        \n",
    "        def fetch_walk():\n",
    "            print(\" > walk\")\n",
    "            self.driver.find_element(by=By.CSS_SELECTOR, value=f\"#walktab\").click()\n",
    "            time.sleep(time_delta)\n",
    "\n",
    "            element = self.driver.find_element(by=By.CSS_SELECTOR, value=f\"div.WalkRouteResultView\")\n",
    "            return element.get_attribute('innerHTML')\n",
    "            \n",
    "        def fetch_transit():\n",
    "            print(\" > transit\")\n",
    "            self.driver.find_element(by=By.CSS_SELECTOR, value=f\"#transittab\").click()\n",
    "            time.sleep(2)\n",
    "            \n",
    "            for route in self.driver.find_elements(by=By.CSS_SELECTOR, value=f\"li.TransitRouteItem\"):\n",
    "                route.click()\n",
    "                for more_route in route.find_elements(by=By.CSS_SELECTOR, value=f\"span.moreBtn\"):\n",
    "                    more_route.click()\n",
    "                    time.sleep(time_delta)\n",
    "                time.sleep(time_delta)\n",
    "\n",
    "            element = self.driver.find_element(by=By.CSS_SELECTOR, value=f\"ul.TransitTotalPanel\")\n",
    "            return element.get_attribute('innerHTML')\n",
    "\n",
    "        try:\n",
    "            return {\n",
    "                # 'bike': fetch_bike(),\n",
    "                # 'walk': fetch_walk(),\n",
    "                'transit': fetch_transit()\n",
    "            }\n",
    "        except Exception as e:\n",
    "            print(e)\n",
    "\n",
    "    def __del__(self):\n",
    "        self.driver.close()\n",
    "\n",
    "routes = KakaoRouteFinder().find_routes('대한건축학회', '서울대학교 자하연')\n",
    "# routes = KakaoRouteFinder().find_routes('서울시청', '서울고속터미널')"
   ]
  },
  {
   "cell_type": "markdown",
   "metadata": {},
   "source": [
    "### Bike"
   ]
  },
  {
   "cell_type": "code",
   "execution_count": 45,
   "metadata": {},
   "outputs": [
    {
     "name": "stdout",
     "output_type": "stream",
     "text": [
      "{'mode': '자전거 도로우선', 'time': '38분', 'distance': '6.2km', 'altitude': '고도 최저 17m, 최고 135m', 'calories': '229kcal'}\n",
      "{'mode': '최단거리', 'time': '38분', 'distance': '6.1km', 'altitude': '고도 최저 17m, 최고 135m', 'calories': '226kcal'}\n",
      "{'mode': '편안한길', 'time': '39분', 'distance': '6.4km', 'altitude': '고도 최저 17m, 최고 128m', 'calories': '233kcal'}\n"
     ]
    }
   ],
   "source": [
    "soup = BeautifulSoup(routes['bike'], 'html.parser')\n",
    "for route in (soup.find_all('li', {\"class\": \"BikeRouteItem\"})):\n",
    "    res = {\n",
    "        \"mode\": route.find('span', {\"class\": \"mode\"}).text,\n",
    "        \"time\": route.find('span', {\"class\": \"time\"}).text.strip(),\n",
    "        \"distance\": route.find('span', {\"class\": \"distance\"}).text,\n",
    "        \"altitude\": route.find('span', {\"class\": \"altitude\"}).text,\n",
    "        \"calories\": route.find('span', {\"class\": \"calories\"}).text,\n",
    "    }\n",
    "    print(res)"
   ]
  },
  {
   "cell_type": "markdown",
   "metadata": {},
   "source": [
    "### Transit"
   ]
  },
  {
   "cell_type": "code",
   "execution_count": 43,
   "metadata": {},
   "outputs": [
    {
     "name": "stdout",
     "output_type": "stream",
     "text": [
      "{'time': '35분', 'info': '도보17분 | 환승1회 | 요금 1,250원 | 7.8km'}\n",
      "{'time': '40분', 'info': '도보13분 | 환승1회 | 요금 1,200원 | 7.2km'}\n",
      "{'time': '39분', 'info': '도보19분 | 환승1회 | 요금 1,250원 | 7.7km'}\n",
      "{'time': '39분', 'info': '도보20분 | 환승1회 | 요금 1,250원 | 8.3km'}\n",
      "{'time': '43분', 'info': '도보11분 | 환승1회 | 요금 1,200원 | 7.7km'}\n",
      "{'time': '42분', 'info': '도보13분 | 환승1회 | 요금 1,200원 | 7.5km'}\n",
      "{'time': '44분', 'info': '도보16분 | 환승1회 | 요금 1,200원 | 7.4km'}\n",
      "{'time': '40분', 'info': '도보24분 | 환승1회 | 요금 1,250원 | 7.5km'}\n",
      "{'time': '47분', 'info': '도보14분 | 환승1회 | 요금 1,200원 | 8.2km'}\n",
      "{'time': '42분', 'info': '도보26분 | 환승1회 | 요금 1,250원 | 7.6km'}\n"
     ]
    }
   ],
   "source": [
    "soup = BeautifulSoup(routes['transit'], 'html.parser')\n",
    "for route in (soup.find_all('li', {\"class\": \"TransitRouteItem\"})):\n",
    "    res = {\n",
    "        \"time\": route.find('span', {\"class\": \"time\"}).text.strip(),\n",
    "        \"info\": route.find('span', {\"class\": \"walkTime\"}).get('title'),\n",
    "    }\n",
    "    print(res)"
   ]
  },
  {
   "cell_type": "markdown",
   "metadata": {},
   "source": [
    "### Walk"
   ]
  },
  {
   "cell_type": "code",
   "execution_count": 44,
   "metadata": {},
   "outputs": [],
   "source": [
    "soup = BeautifulSoup(routes['walk'], 'html.parser')\n",
    "for route in (soup.find_all('li', {\"class\": \"WalkRouteItem\"})):\n",
    "    res = {\n",
    "        \"mode\": route.find('span', {\"class\": \"mode\"}).text,\n",
    "        \"time\": route.find('span', {\"class\": \"time\"}).text.strip(),\n",
    "        \"info\": route.find('div', {\"class\": \"info\"}).text.strip(),\n",
    "    }\n",
    "    print(res)"
   ]
  },
  {
   "cell_type": "markdown",
   "metadata": {},
   "source": [
    "### Coordinate Transform"
   ]
  },
  {
   "cell_type": "code",
   "execution_count": 39,
   "metadata": {},
   "outputs": [
    {
     "name": "stdout",
     "output_type": "stream",
     "text": [
      "Collecting python-dotenv\n",
      "  Downloading python_dotenv-0.20.0-py3-none-any.whl (17 kB)\n",
      "Installing collected packages: python-dotenv\n",
      "Successfully installed python-dotenv-0.20.0\n",
      "Note: you may need to restart the kernel to use updated packages.\n"
     ]
    }
   ],
   "source": [
    "%pip install python-dotenv"
   ]
  },
  {
   "cell_type": "code",
   "execution_count": 24,
   "metadata": {},
   "outputs": [
    {
     "data": {
      "text/plain": [
       "(126.97865225830876, 37.56682600466712)"
      ]
     },
     "execution_count": 24,
     "metadata": {},
     "output_type": "execute_result"
    }
   ],
   "source": [
    "import requests\n",
    "import dotenv\n",
    "from os import environ\n",
    "\n",
    "dotenv.load_dotenv('.env', override=True)\n",
    "\n",
    "def transform(coord, input_coord='WCONGNAMUL', output_coord='WGS84'):\n",
    "    URL = f'https://dapi.kakao.com/v2/local/geo/transcoord.json?x={coord[0]}&y={coord[1]}&input_coord={input_coord}&output_coord={output_coord}'\n",
    "    headers = {'Authorization': f'KakaoAK {environ.get(\"KAKAO_REST_API_KEY\")}'}\n",
    "    new_coord = requests.get(URL, headers=headers).json()['documents'][0]\n",
    "    return (new_coord['x'], new_coord['y'])\n",
    "\n",
    "transform((495285,1129803), 'WCONGNAMUL', 'WGS84')"
   ]
  },
  {
   "cell_type": "code",
   "execution_count": 26,
   "metadata": {},
   "outputs": [
    {
     "name": "stdout",
     "output_type": "stream",
     "text": [
      "https://map.kakao.com/?map_type=TYPE_MAP&target=car&rt=495285,1129803,501139,1109250&rt1=org&rt2=des\n"
     ]
    }
   ],
   "source": [
    "(org, des) = ('org', 'des')\n",
    "(org_x, org_y) = transform((126.97865225830876, 37.56682600466712), 'WGS84', 'WCONGNAMUL')\n",
    "(des_x, des_y) = transform((127.00515186540567, 37.49275468135762), 'WGS84', 'WCONGNAMUL')\n",
    "print(f'https://map.kakao.com/?map_type=TYPE_MAP&target=car&rt={int(org_x)},{int(org_y)},{int(des_x)},{int(des_y)}&rt1={org}&rt2={des}')"
   ]
  },
  {
   "cell_type": "markdown",
   "metadata": {},
   "source": [
    "https://map.kakao.com/?map_type=TYPE_MAP&target=car&rt=495285,1129803,492630,1108280&rt1=org&rt2=des"
   ]
  },
  {
   "cell_type": "code",
   "execution_count": 91,
   "metadata": {},
   "outputs": [],
   "source": [
    "soup = BeautifulSoup(routes['transit'], 'html.parser')\n",
    "\n",
    "S = set()\n",
    "for route in (soup.find_all('li', {\"class\": \"TransitRouteItem\"})):\n",
    "    nodes = [name.text.strip().replace(\" 승차\", \"\").replace(\" 하차\", \"\").replace(\" 정류장\", \"\") for name in route.find_all('a', {\"data-id\": \"name\"})]\n",
    "    # print(nodes)\n",
    "    S.update(nodes)\n",
    "    nodes = [node.text.strip() for node in route.find_all('li', {\"class\": \"nodeName\"})]\n",
    "    # print(nodes)\n",
    "    S.update(nodes)"
   ]
  },
  {
   "cell_type": "code",
   "execution_count": 113,
   "metadata": {},
   "outputs": [
    {
     "name": "stdout",
     "output_type": "stream",
     "text": [
      "Collecting haversine\n",
      "  Downloading haversine-2.5.1-py2.py3-none-any.whl (6.1 kB)\n",
      "Installing collected packages: haversine\n",
      "Successfully installed haversine-2.5.1\n",
      "Note: you may need to restart the kernel to use updated packages.\n"
     ]
    }
   ],
   "source": [
    "%pip install haversine"
   ]
  },
  {
   "cell_type": "code",
   "execution_count": 162,
   "metadata": {},
   "outputs": [
    {
     "data": {
      "text/plain": [
       "0.35262858573738154"
      ]
     },
     "execution_count": 162,
     "metadata": {},
     "output_type": "execute_result"
    }
   ],
   "source": [
    "from haversine import haversine\n",
    "\n",
    "def get_distance(org, des):\n",
    "    return haversine(org, des, unit='m')\n",
    "    \n",
    "get_distance((37.550623,\t126.914980), (37.550623,\t126.914984))"
   ]
  },
  {
   "cell_type": "code",
   "execution_count": 184,
   "metadata": {},
   "outputs": [
    {
     "data": {
      "text/plain": [
       "(0.03811098653084432,\n",
       " 대여소\\n번호                    105\n",
       " 보관소(대여소)명           합정역 5번출구 앞\n",
       " 자치구                        마포구\n",
       " 상세주소          서울특별시 마포구 양화로 48\n",
       " 위도(Y)                37.550007\n",
       " 경도(X)               126.914825\n",
       " 설치\\n시기              2015-09-06\n",
       " 설치형태                       5.0\n",
       " Unnamed: 8                 NaN\n",
       " 운영\\n방식                     LCD\n",
       " Name: 1369, dtype: object)"
      ]
     },
     "execution_count": 184,
     "metadata": {},
     "output_type": "execute_result"
    }
   ],
   "source": [
    "def get_nearest_bike(lat, lng):\n",
    "    delta = 5e-3\n",
    "    df = df_bike[(df_bike[\"위도(Y)\"] > lat-delta) & (df_bike[\"위도(Y)\"] < lat+delta) \\\n",
    "               & (df_bike[\"경도(X)\"] > lng-delta) & (df_bike[\"경도(X)\"] < lng+delta) ]\n",
    "\n",
    "    min_bike, min_dist = \"N/A\", float(\"inf\")\n",
    "    for i, bike in df.iterrows():\n",
    "        dist = get_distance((lat, lng), bike[[\"위도(Y)\", \"경도(X)\"]])\n",
    "        if min_dist > dist:\n",
    "            min_dist = dist\n",
    "            min_bike = bike\n",
    "    return min_dist, min_bike\n",
    "\n",
    "get_nearest_bike(37.550007,\t126.914825)"
   ]
  },
  {
   "cell_type": "code",
   "execution_count": 189,
   "metadata": {},
   "outputs": [
    {
     "name": "stdout",
     "output_type": "stream",
     "text": [
      "사당1동관악시장앞 37.4767901 126.977952 광일빌딩\n",
      "N/A\n",
      "낙성대입구 37.47790968 126.9618757 낙성대역 5번출구\n",
      "N/A\n",
      "관악경찰서.관악소방서 37.475253 126.952572 관악구청교차로\n",
      "서울대후문.연구공원 37.46505396 126.9576576 낙성대 교수아파트\n",
      "서울과학전시관 37.46872249 126.9579992 낙성대 과학전시관\n",
      "예술인마을 37.47604923 126.9728451 광일빌딩\n",
      "가족생활동 37.4669274 126.9577616 낙성대 교수아파트\n",
      "국제대학원 37.46417722 126.9553135 낙성대 교수아파트\n",
      "봉천사거리.봉천중앙시장 37.48288738 126.9542258 중앙동 동진빌딩\n",
      "호암교수회관 37.46841173 126.958334 낙성대 과학전시관\n",
      "낙성대공원.영어마을 37.47217216 126.9586485 영어마을 관악캠프\n",
      "서울교통공사 37.47671115 126.9861652 연세사랑병원신관앞\n",
      "N/A\n",
      "서울여상.서울문영여중고앞 37.47316048 126.9533001 낙성대 교수아파트\n",
      "서울대학교 37.46674146 126.9479523 서울대학교 정문\n",
      "서울대입구역 37.481247 126.952739 서울대입구역 1번출구\n",
      "법대.사회대입구 37.46310498 126.9488366 서울대학교 정문\n",
      "낙성대현대아파트 37.47487295 126.9591501 인헌초교\n",
      "방배역 37.481426 126.997596 방배역 2번 출구\n",
      "사당역 37.47653 126.981685 사당역 5번출구\n",
      "행운동주민센터 37.47984444 126.956869 사랑의병원\n",
      "서울미술고.인헌중고 37.47646634 126.9655544 JK장평타워\n",
      "봉천사거리.위버폴리스 37.48279341 126.9535723 중앙동 동진빌딩\n",
      "인헌아파트 37.46802075 126.9612872 낙성대 과학전시관\n",
      "경영대 37.466135 126.952053 서울대학교 정문\n",
      "관악구청 37.47798198 126.9524978 관악구청교차로\n",
      "대한건축학회 N/A\n",
      "대우효령아파트 37.48020356 126.9933661 LG유플러스 (방배사옥)\n",
      "낙성대역 37.47693 126.963693 낙성대역 3번출구 뒤\n",
      "수의대입구.보건대학원앞 37.46609811 126.9546012 낙성대 교수아파트\n",
      "서울대학교.치과병원.동물병원 37.46927442 126.9520816 서울대학교 정문\n",
      "N/A\n",
      "N/A\n",
      "서울대학교 자하연 N/A\n",
      "인헌초등학교 37.47710724 126.9617606 낙성대역 5번출구\n",
      "서울대정문 37.46565665 126.9482402 서울대학교 정문\n",
      "서울대입구역5번출구 37.48162815 126.9510142 에이스에이존빌딩\n",
      "종로교회 37.47864162 126.9890956 LG유플러스 (방배사옥)\n"
     ]
    }
   ],
   "source": [
    "for s in S:\n",
    "    # print(s)\n",
    "    bus = df_bus[df_bus['정류소명'] == s]\n",
    "    subway = df_subway[df_subway['name'] == s.replace('역', '')]\n",
    "    try:\n",
    "        if len(subway):\n",
    "            lat, lng = subway[['lat(y)', 'lng']].iloc[0]\n",
    "            print(s, lat, lng, get_nearest_bike(float(lat), float(lng))[1]['보관소(대여소)명'])\n",
    "        elif len(bus):\n",
    "            lat, lng = bus[['Y좌표', 'X좌표']].iloc[0]\n",
    "            print(s, lat, lng, get_nearest_bike(float(lat), float(lng))[1]['보관소(대여소)명'])\n",
    "        else:\n",
    "            print(s, 'N/A')\n",
    "    except:\n",
    "        print('N/A')\n",
    "    # print(df_bus[df_bus['정류소명']==s])"
   ]
  },
  {
   "cell_type": "code",
   "execution_count": 32,
   "metadata": {},
   "outputs": [
    {
     "data": {
      "text/html": [
       "<div>\n",
       "<style scoped>\n",
       "    .dataframe tbody tr th:only-of-type {\n",
       "        vertical-align: middle;\n",
       "    }\n",
       "\n",
       "    .dataframe tbody tr th {\n",
       "        vertical-align: top;\n",
       "    }\n",
       "\n",
       "    .dataframe thead th {\n",
       "        text-align: right;\n",
       "    }\n",
       "</style>\n",
       "<table border=\"1\" class=\"dataframe\">\n",
       "  <thead>\n",
       "    <tr style=\"text-align: right;\">\n",
       "      <th></th>\n",
       "      <th>ARS-ID</th>\n",
       "      <th>정류소명</th>\n",
       "      <th>X좌표</th>\n",
       "      <th>Y좌표</th>\n",
       "    </tr>\n",
       "  </thead>\n",
       "  <tbody>\n",
       "    <tr>\n",
       "      <th>0</th>\n",
       "      <td>1001</td>\n",
       "      <td>종로2가사거리</td>\n",
       "      <td>126.987750</td>\n",
       "      <td>37.569765</td>\n",
       "    </tr>\n",
       "    <tr>\n",
       "      <th>1</th>\n",
       "      <td>1002</td>\n",
       "      <td>창경궁.서울대학교병원</td>\n",
       "      <td>126.996566</td>\n",
       "      <td>37.579183</td>\n",
       "    </tr>\n",
       "    <tr>\n",
       "      <th>2</th>\n",
       "      <td>1003</td>\n",
       "      <td>명륜3가.성대입구</td>\n",
       "      <td>126.998340</td>\n",
       "      <td>37.582671</td>\n",
       "    </tr>\n",
       "    <tr>\n",
       "      <th>3</th>\n",
       "      <td>1004</td>\n",
       "      <td>종로2가.삼일교</td>\n",
       "      <td>126.987613</td>\n",
       "      <td>37.568579</td>\n",
       "    </tr>\n",
       "    <tr>\n",
       "      <th>4</th>\n",
       "      <td>1005</td>\n",
       "      <td>혜화동로터리.여운형활동터</td>\n",
       "      <td>127.001744</td>\n",
       "      <td>37.586243</td>\n",
       "    </tr>\n",
       "    <tr>\n",
       "      <th>...</th>\n",
       "      <td>...</td>\n",
       "      <td>...</td>\n",
       "      <td>...</td>\n",
       "      <td>...</td>\n",
       "    </tr>\n",
       "    <tr>\n",
       "      <th>11310</th>\n",
       "      <td>25995</td>\n",
       "      <td>우성아파트</td>\n",
       "      <td>127.139338</td>\n",
       "      <td>37.550386</td>\n",
       "    </tr>\n",
       "    <tr>\n",
       "      <th>11311</th>\n",
       "      <td>25996</td>\n",
       "      <td>우성아파트</td>\n",
       "      <td>127.140046</td>\n",
       "      <td>37.550643</td>\n",
       "    </tr>\n",
       "    <tr>\n",
       "      <th>11312</th>\n",
       "      <td>25997</td>\n",
       "      <td>조일약국</td>\n",
       "      <td>127.123596</td>\n",
       "      <td>37.533630</td>\n",
       "    </tr>\n",
       "    <tr>\n",
       "      <th>11313</th>\n",
       "      <td>25998</td>\n",
       "      <td>성내시장</td>\n",
       "      <td>127.125497</td>\n",
       "      <td>37.536155</td>\n",
       "    </tr>\n",
       "    <tr>\n",
       "      <th>11314</th>\n",
       "      <td>25999</td>\n",
       "      <td>천호우체국.로데오거리</td>\n",
       "      <td>127.127337</td>\n",
       "      <td>37.540343</td>\n",
       "    </tr>\n",
       "  </tbody>\n",
       "</table>\n",
       "<p>11315 rows × 4 columns</p>\n",
       "</div>"
      ],
      "text/plain": [
       "       ARS-ID           정류소명         X좌표        Y좌표\n",
       "0        1001        종로2가사거리  126.987750  37.569765\n",
       "1        1002    창경궁.서울대학교병원  126.996566  37.579183\n",
       "2        1003      명륜3가.성대입구  126.998340  37.582671\n",
       "3        1004       종로2가.삼일교  126.987613  37.568579\n",
       "4        1005  혜화동로터리.여운형활동터  127.001744  37.586243\n",
       "...       ...            ...         ...        ...\n",
       "11310   25995          우성아파트  127.139338  37.550386\n",
       "11311   25996          우성아파트  127.140046  37.550643\n",
       "11312   25997           조일약국  127.123596  37.533630\n",
       "11313   25998           성내시장  127.125497  37.536155\n",
       "11314   25999    천호우체국.로데오거리  127.127337  37.540343\n",
       "\n",
       "[11315 rows x 4 columns]"
      ]
     },
     "execution_count": 32,
     "metadata": {},
     "output_type": "execute_result"
    }
   ],
   "source": [
    "df_bus"
   ]
  },
  {
   "cell_type": "code",
   "execution_count": 30,
   "metadata": {},
   "outputs": [
    {
     "data": {
      "text/html": [
       "<div>\n",
       "<style scoped>\n",
       "    .dataframe tbody tr th:only-of-type {\n",
       "        vertical-align: middle;\n",
       "    }\n",
       "\n",
       "    .dataframe tbody tr th {\n",
       "        vertical-align: top;\n",
       "    }\n",
       "\n",
       "    .dataframe thead th {\n",
       "        text-align: right;\n",
       "    }\n",
       "</style>\n",
       "<table border=\"1\" class=\"dataframe\">\n",
       "  <thead>\n",
       "    <tr style=\"text-align: right;\">\n",
       "      <th></th>\n",
       "      <th>code</th>\n",
       "      <th>name</th>\n",
       "      <th>lat(y)</th>\n",
       "      <th>lng</th>\n",
       "    </tr>\n",
       "  </thead>\n",
       "  <tbody>\n",
       "    <tr>\n",
       "      <th>0</th>\n",
       "      <td>1908.0</td>\n",
       "      <td>녹양</td>\n",
       "      <td>37.759380</td>\n",
       "      <td>127.042292(x)</td>\n",
       "    </tr>\n",
       "    <tr>\n",
       "      <th>1</th>\n",
       "      <td>1002.0</td>\n",
       "      <td>남영</td>\n",
       "      <td>37.541021</td>\n",
       "      <td>126.9713</td>\n",
       "    </tr>\n",
       "    <tr>\n",
       "      <th>2</th>\n",
       "      <td>1003.0</td>\n",
       "      <td>용산</td>\n",
       "      <td>37.529849</td>\n",
       "      <td>126.964561</td>\n",
       "    </tr>\n",
       "    <tr>\n",
       "      <th>3</th>\n",
       "      <td>1004.0</td>\n",
       "      <td>노량진</td>\n",
       "      <td>37.514219</td>\n",
       "      <td>126.942454</td>\n",
       "    </tr>\n",
       "    <tr>\n",
       "      <th>4</th>\n",
       "      <td>1005.0</td>\n",
       "      <td>대방</td>\n",
       "      <td>37.513342</td>\n",
       "      <td>126.926382</td>\n",
       "    </tr>\n",
       "    <tr>\n",
       "      <th>...</th>\n",
       "      <td>...</td>\n",
       "      <td>...</td>\n",
       "      <td>...</td>\n",
       "      <td>...</td>\n",
       "    </tr>\n",
       "    <tr>\n",
       "      <th>725</th>\n",
       "      <td>3135.0</td>\n",
       "      <td>지식정보단지</td>\n",
       "      <td>37.378384</td>\n",
       "      <td>126.645168</td>\n",
       "    </tr>\n",
       "    <tr>\n",
       "      <th>726</th>\n",
       "      <td>3136.0</td>\n",
       "      <td>인천대입구</td>\n",
       "      <td>37.386007</td>\n",
       "      <td>126.639484</td>\n",
       "    </tr>\n",
       "    <tr>\n",
       "      <th>727</th>\n",
       "      <td>3137.0</td>\n",
       "      <td>센트럴파크</td>\n",
       "      <td>37.393054</td>\n",
       "      <td>126.634729</td>\n",
       "    </tr>\n",
       "    <tr>\n",
       "      <th>728</th>\n",
       "      <td>3138.0</td>\n",
       "      <td>국제업무지구</td>\n",
       "      <td>37.399907</td>\n",
       "      <td>126.630347</td>\n",
       "    </tr>\n",
       "    <tr>\n",
       "      <th>729</th>\n",
       "      <td>3123.0</td>\n",
       "      <td>간석오거리</td>\n",
       "      <td>37.467048</td>\n",
       "      <td>126.707938</td>\n",
       "    </tr>\n",
       "  </tbody>\n",
       "</table>\n",
       "<p>730 rows × 4 columns</p>\n",
       "</div>"
      ],
      "text/plain": [
       "       code    name     lat(y)            lng\n",
       "0    1908.0      녹양  37.759380  127.042292(x)\n",
       "1    1002.0      남영  37.541021       126.9713\n",
       "2    1003.0      용산  37.529849     126.964561\n",
       "3    1004.0     노량진  37.514219     126.942454\n",
       "4    1005.0      대방  37.513342     126.926382\n",
       "..      ...     ...        ...            ...\n",
       "725  3135.0  지식정보단지  37.378384     126.645168\n",
       "726  3136.0   인천대입구  37.386007     126.639484\n",
       "727  3137.0   센트럴파크  37.393054     126.634729\n",
       "728  3138.0  국제업무지구  37.399907     126.630347\n",
       "729  3123.0   간석오거리  37.467048     126.707938\n",
       "\n",
       "[730 rows x 4 columns]"
      ]
     },
     "execution_count": 30,
     "metadata": {},
     "output_type": "execute_result"
    }
   ],
   "source": [
    "df_subway[['code', 'name', 'lat(y)', 'lng']]"
   ]
  },
  {
   "cell_type": "code",
   "execution_count": 28,
   "metadata": {},
   "outputs": [
    {
     "data": {
      "text/html": [
       "<div>\n",
       "<style scoped>\n",
       "    .dataframe tbody tr th:only-of-type {\n",
       "        vertical-align: middle;\n",
       "    }\n",
       "\n",
       "    .dataframe tbody tr th {\n",
       "        vertical-align: top;\n",
       "    }\n",
       "\n",
       "    .dataframe thead th {\n",
       "        text-align: right;\n",
       "    }\n",
       "</style>\n",
       "<table border=\"1\" class=\"dataframe\">\n",
       "  <thead>\n",
       "    <tr style=\"text-align: right;\">\n",
       "      <th></th>\n",
       "      <th>대여소\\n번호</th>\n",
       "      <th>보관소(대여소)명</th>\n",
       "      <th>위도(Y)</th>\n",
       "      <th>경도(X)</th>\n",
       "    </tr>\n",
       "  </thead>\n",
       "  <tbody>\n",
       "    <tr>\n",
       "      <th>0</th>\n",
       "      <td>102</td>\n",
       "      <td>망원역 1번출구 앞</td>\n",
       "      <td>37.555649</td>\n",
       "      <td>126.910629</td>\n",
       "    </tr>\n",
       "    <tr>\n",
       "      <th>1</th>\n",
       "      <td>103</td>\n",
       "      <td>망원역 2번출구 앞</td>\n",
       "      <td>37.554951</td>\n",
       "      <td>126.910835</td>\n",
       "    </tr>\n",
       "    <tr>\n",
       "      <th>2</th>\n",
       "      <td>104</td>\n",
       "      <td>합정역 1번출구 앞</td>\n",
       "      <td>37.550629</td>\n",
       "      <td>126.914986</td>\n",
       "    </tr>\n",
       "    <tr>\n",
       "      <th>3</th>\n",
       "      <td>105</td>\n",
       "      <td>합정역 5번출구 앞</td>\n",
       "      <td>37.550007</td>\n",
       "      <td>126.914825</td>\n",
       "    </tr>\n",
       "    <tr>\n",
       "      <th>4</th>\n",
       "      <td>106</td>\n",
       "      <td>합정역 7번출구 앞</td>\n",
       "      <td>37.548645</td>\n",
       "      <td>126.912826</td>\n",
       "    </tr>\n",
       "    <tr>\n",
       "      <th>...</th>\n",
       "      <td>...</td>\n",
       "      <td>...</td>\n",
       "      <td>...</td>\n",
       "      <td>...</td>\n",
       "    </tr>\n",
       "    <tr>\n",
       "      <th>2581</th>\n",
       "      <td>5070</td>\n",
       "      <td>마곡13단지힐스테이트마스터 후문(1320동 앞)</td>\n",
       "      <td>37.556763</td>\n",
       "      <td>126.818695</td>\n",
       "    </tr>\n",
       "    <tr>\n",
       "      <th>2582</th>\n",
       "      <td>5072</td>\n",
       "      <td>김포공항입구 교통섬</td>\n",
       "      <td>37.561546</td>\n",
       "      <td>126.807083</td>\n",
       "    </tr>\n",
       "    <tr>\n",
       "      <th>2583</th>\n",
       "      <td>5073</td>\n",
       "      <td>우장산역 헤링턴타워 앞</td>\n",
       "      <td>37.546619</td>\n",
       "      <td>126.836235</td>\n",
       "    </tr>\n",
       "    <tr>\n",
       "      <th>2584</th>\n",
       "      <td>5074</td>\n",
       "      <td>마곡동 주니어마곡점앞</td>\n",
       "      <td>37.558235</td>\n",
       "      <td>126.825760</td>\n",
       "    </tr>\n",
       "    <tr>\n",
       "      <th>2585</th>\n",
       "      <td>5075</td>\n",
       "      <td>템퍼 목동점</td>\n",
       "      <td>37.551884</td>\n",
       "      <td>126.863571</td>\n",
       "    </tr>\n",
       "  </tbody>\n",
       "</table>\n",
       "<p>2586 rows × 4 columns</p>\n",
       "</div>"
      ],
      "text/plain": [
       "      대여소\\n번호                   보관소(대여소)명      위도(Y)       경도(X)\n",
       "0         102                  망원역 1번출구 앞  37.555649  126.910629\n",
       "1         103                  망원역 2번출구 앞  37.554951  126.910835\n",
       "2         104                  합정역 1번출구 앞  37.550629  126.914986\n",
       "3         105                  합정역 5번출구 앞  37.550007  126.914825\n",
       "4         106                  합정역 7번출구 앞  37.548645  126.912826\n",
       "...       ...                         ...        ...         ...\n",
       "2581     5070  마곡13단지힐스테이트마스터 후문(1320동 앞)  37.556763  126.818695\n",
       "2582     5072                  김포공항입구 교통섬  37.561546  126.807083\n",
       "2583     5073                우장산역 헤링턴타워 앞  37.546619  126.836235\n",
       "2584     5074                 마곡동 주니어마곡점앞  37.558235  126.825760\n",
       "2585     5075                      템퍼 목동점  37.551884  126.863571\n",
       "\n",
       "[2586 rows x 4 columns]"
      ]
     },
     "execution_count": 28,
     "metadata": {},
     "output_type": "execute_result"
    }
   ],
   "source": [
    "df_bike[['대여소\\n번호', \"보관소(대여소)명\", \"위도(Y)\", \"경도(X)\"]]"
   ]
  }
 ],
 "metadata": {
  "interpreter": {
   "hash": "7357ee85ff53903ea5241e3726a4915c92f341c2a9829a664afcec1d7a92746d"
  },
  "kernelspec": {
   "display_name": "Python 3.8.8 ('base')",
   "language": "python",
   "name": "python3"
  },
  "language_info": {
   "codemirror_mode": {
    "name": "ipython",
    "version": 3
   },
   "file_extension": ".py",
   "mimetype": "text/x-python",
   "name": "python",
   "nbconvert_exporter": "python",
   "pygments_lexer": "ipython3",
   "version": "3.8.8"
  },
  "orig_nbformat": 4
 },
 "nbformat": 4,
 "nbformat_minor": 2
}
