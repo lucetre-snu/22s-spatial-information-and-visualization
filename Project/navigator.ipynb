{
 "cells": [
  {
   "cell_type": "code",
   "execution_count": null,
   "metadata": {},
   "outputs": [],
   "source": [
    "%pip install bs4 selenium webdriver_manager python-dotenv haversine pandas"
   ]
  },
  {
   "cell_type": "code",
   "execution_count": 12,
   "metadata": {},
   "outputs": [
    {
     "name": "stdout",
     "output_type": "stream",
     "text": [
      "https://map.kakao.com/?map_type=TYPE_MAP&target=car&rt=501174,1109591,487919,1103112&rt1=대검찰청&rt2=신림중\n"
     ]
    }
   ],
   "source": [
    "from bs4 import BeautifulSoup\n",
    "from navigator import KakaoRouteFinder\n",
    "import pandas as pd\n",
    "import navigator\n",
    "import coordinate\n",
    "import os\n",
    "\n",
    "os.environ['WDM_LOG_LEVEL'] = '0'\n",
    "\n",
    "org, des = ('대검찰청', '신림중')\n",
    "\n",
    "org_coord = coordinate.get_coordinate(org)\n",
    "des_coord = coordinate.get_coordinate(des)\n",
    "\n",
    "(org_x, org_y) = coordinate.transform(org_coord[::-1], 'WGS84', 'WCONGNAMUL')\n",
    "(des_x, des_y) = coordinate.transform(des_coord[::-1], 'WGS84', 'WCONGNAMUL')\n",
    "\n",
    "print(f'https://map.kakao.com/?map_type=TYPE_MAP&target=car&rt={int(org_x)},{int(org_y)},{int(des_x)},{int(des_y)}&rt1={org}&rt2={des}')\n",
    "\n",
    "routes = {}\n",
    "routes['transit'] = KakaoRouteFinder().find_route_by_keyword('transit', org, des, time_delta=0.5, init_time=2.0)\n",
    "navigator.extract_route('transit', routes['transit'])"
   ]
  },
  {
   "cell_type": "code",
   "execution_count": 19,
   "metadata": {},
   "outputs": [
    {
     "name": "stderr",
     "output_type": "stream",
     "text": [
      "Retrieve Seoul Bike Stations: 100%|██████████| 51/51 [00:04<00:00, 11.18it/s]"
     ]
    },
    {
     "name": "stdout",
     "output_type": "stream",
     "text": [
      "39 Stations\n",
      "2235 KT 서초지사 앞 (37.48215866, 127.0027008) -3.8842389260768053 (500597.0, 1106310.0)\n",
      "2281 연세사랑병원신관앞 (37.47597885, 126.9862824) -1.046275290346005 (496967.0, 1104595.0)\n",
      "2165 JK장평타워 (37.47648239, 126.9653626) 2.1455962506886057 (492341.0, 1104736.0)\n",
      "2191 대학동주민센터  (37.47068787, 126.9364853) 5.818047047679881 (485954.0, 1103132.0)\n",
      "2237 서울남부터미널 대합실 입구 (37.48455811, 127.0148697) -4.980212862796886 (503288.0, 1106976.0)\n",
      "2279 교대역 5번출구뒤 (37.49361801, 127.014183) -5.804437028300379 (503136.0, 1109490.0)\n",
      "2225 백석예술대학교 제3캠퍼스 앞 (37.4737587, 126.9952469) -1.9973986935031411 (498949.0, 1103979.0)\n",
      "2280 서울서초고용센터앞 (37.48416138, 127.0109711) -4.780350076762631 (502426.0, 1106866.0)\n",
      "2128 관악구청교차로 (37.47916412, 126.9525833) 3.792023793981868 (489515.0, 1105482.0)\n",
      "2198 사랑의병원 (37.47946548, 126.9569321) 3.146576811784839 (490477.0, 1105565.0)\n",
      "2137 KT&G 관악지점 (37.48490143, 126.9365311) 4.3825592089270025 (485967.0, 1107076.0)\n",
      "2266 서초역 3번출구 (37.49053955, 127.0081635) -5.508726773720487 (501805.0, 1108635.0)\n",
      "3815 광일빌딩 (37.47639847, 126.9768372) 0.3334755817005677 (494878.0, 1104712.0)\n",
      "2502 서초역1번출구 앞 (37.49195099, 127.0085526) -5.693994009523444 (501891.0, 1109027.0)\n",
      "2533 한가람미술관 앞 (37.48087692, 127.0145264) -4.5393193271207934 (503212.0, 1105955.0)\n",
      "2272 교대입구 교차로 (37.4873085, 127.010582) -5.170117660257171 (502340.0, 1107739.0)\n",
      "2297 남부터미널역 1번출구 (37.485672, 127.0159226) -5.131004571075948 (503521.0, 1107285.0)\n",
      "2143 서울산업정보학교 (37.4706955, 126.9421997) 5.861295717359914 (487217.0, 1103133.0)\n",
      "2104 사당역 5번출구 (37.47608948, 126.9813309) -0.3266284113348723 (495872.0, 1104626.0)\n",
      "2164 관악우체국 (37.48476791, 126.9328766) 4.5513621831365745 (485158.0, 1107039.0)\n",
      "2169 봉천역 2번출구 (37.48218918, 126.942131) 4.408793372316326 (487204.0, 1106322.0)\n",
      "2116 에이스에이존빌딩 (37.48170471, 126.9508286) 3.6739129768762213 (489127.0, 1106187.0)\n",
      "3812 KT관악지점 (37.48163223, 126.9471893) 4.073926980120194 (488323.0, 1106167.0)\n",
      "2107 도림천 신화교 (37.4754715, 126.9364548) 5.460662899768251 (485948.0, 1104459.0)\n",
      "2111 서울대입구역 1번출구 (37.48086929, 126.9533157) 3.4758212186292194 (489677.0, 1105955.0)\n",
      "2136 신림역 8번출구 (37.48450851, 126.930069) 4.670183654805722 (484538.0, 1106968.0)\n",
      "4304 서울고앞 (37.48339462, 127.0073624) -4.460407624698675 (501628.0, 1106653.0)\n",
      "2148 낙성대역 3번출구 뒤 (37.47702789, 126.9633942) 2.4085617247986186 (491905.0, 1104888.0)\n",
      "2119 중앙동 동진빌딩 (37.48425674, 126.9546967) 2.869585771046612 (489983.0, 1106894.0)\n",
      "4318 방배역 2번 출구 (37.48116684, 126.9975891) -3.17518466594118 (499467.0, 1106035.0)\n",
      "2140 신림1교 교차로 (37.47842789, 126.9318619) 5.232651734024751 (484933.0, 1105280.0)\n",
      "2172 나들목공원 (37.46940613, 126.9445114) 5.865854402717215 (487728.0, 1102775.0)\n",
      "2282 방배래미안아트힐 101동앞 (37.47720337, 127.0058365) -3.5193716018204677 (501291.0, 1104935.0)\n",
      "2226 신동아럭스빌아파트 앞 (37.47518158, 127.0013886) -2.850219199808901 (500307.0, 1104374.0)\n",
      "2178 서울대학교 정문 (37.46681976, 126.9488068) 5.309325924998543 (488678.0, 1102057.0)\n",
      "2141 미림여고입구 교차로 (37.47229385, 126.9334106) 5.71530017767677 (485274.0, 1103578.0)\n",
      "2185 대학동 고시촌 (37.47046661, 126.938652) 5.8435952585882305 (486433.0, 1103070.0)\n",
      "3813 낙성대역 5번출구 (37.47752762, 126.9627686) 2.4592628433023394 (491767.0, 1105027.0)\n",
      "3806 낙성대 교수아파트 (37.46895981, 126.9576569) 3.9423756580782223 (490636.0, 1102650.0)\n"
     ]
    },
    {
     "name": "stderr",
     "output_type": "stream",
     "text": [
      "\n"
     ]
    }
   ],
   "source": [
    "from tqdm import tqdm\n",
    "\n",
    "soup = BeautifulSoup(routes['transit'], 'html.parser')\n",
    "S = set()\n",
    "for route in (soup.find_all('li', {\"class\": \"TransitRouteItem\"})):\n",
    "    nodes = [name.text.strip().replace(\" 승차\", \"\").replace(\" 하차\", \"\").replace(\" 환승\", \"\").replace(\" 정류장\", \"\") for name in route.find_all('a', {\"data-id\": \"name\"})]\n",
    "    # print(nodes)\n",
    "    S.update(nodes)\n",
    "    nodes = [node.text.strip() for node in route.find_all('li', {\"class\": \"nodeName\"})]\n",
    "    # print(nodes)\n",
    "    S.update(nodes)\n",
    "\n",
    "seoul_bike = {}\n",
    "for s in tqdm(S, desc=\"Retrieve Seoul Bike Stations: \"):\n",
    "    bus = coordinate.df_bus[coordinate.df_bus['정류소명'] == s]\n",
    "    subway = coordinate.df_subway[coordinate.df_subway['name'] == s.replace('역', '')]\n",
    "    try:\n",
    "        if len(subway):\n",
    "            lat, lng = subway[['lat(y)', 'lng']].iloc[0]\n",
    "        elif len(bus):\n",
    "            lat, lng = bus[['Y좌표', 'X좌표']].iloc[0]\n",
    "        else:\n",
    "            # print(s, 'N/A')\n",
    "            continue\n",
    "        _, bike = coordinate.get_nearest_bike(float(lat), float(lng))\n",
    "        bike_id, bike_name, bike_lat, bike_lng = bike[['대여소\\n번호', '보관소(대여소)명', '위도(Y)', '경도(X)']]\n",
    "        # print(s, lat, lng, bike_name)\n",
    "        congnamul = coordinate.transform((bike_lng, bike_lat), 'WGS84', 'WCONGNAMUL')\n",
    "        seoul_bike[bike_id] = ( \\\n",
    "            bike_name, \\\n",
    "            bike_lat, \\\n",
    "            bike_lng, \\\n",
    "            coordinate.get_distance(org_coord, (bike_lat, bike_lng)), \\\n",
    "            coordinate.get_distance(des_coord, (bike_lat, bike_lng)), \\\n",
    "            congnamul,\n",
    "        )\n",
    "    except:\n",
    "        # print('N/A')\n",
    "        pass\n",
    "\n",
    "print(len(seoul_bike.keys()), 'Stations')\n",
    "\n",
    "for id in seoul_bike.keys():\n",
    "    name, lat, lng, org_dist, des_dist, congnamul = seoul_bike[id]\n",
    "    coord = (lat, lng)\n",
    "    print(id, name, coord, org_dist-des_dist, congnamul)\n"
   ]
  },
  {
   "cell_type": "code",
   "execution_count": 24,
   "metadata": {},
   "outputs": [
    {
     "data": {
      "text/plain": [
       "171"
      ]
     },
     "execution_count": 24,
     "metadata": {},
     "output_type": "execute_result"
    }
   ],
   "source": [
    "bikes = sorted(seoul_bike.items(), key=lambda item: item[1][3]-item[1][4])\n",
    "cnt = 0\n",
    "for i, srt in enumerate(bikes):\n",
    "    for j in range(i+1, len(bikes)):\n",
    "        if i*j % 2 == 1:\n",
    "            cnt += 1\n",
    "cnt"
   ]
  },
  {
   "cell_type": "code",
   "execution_count": 25,
   "metadata": {},
   "outputs": [
    {
     "name": "stderr",
     "output_type": "stream",
     "text": [
      "100%|██████████| 38/38 [00:00<?, ?it/s]s]\n",
      "100%|██████████| 37/37 [00:24<00:00,  1.51it/s]\n",
      "100%|██████████| 36/36 [00:00<?, ?it/s]7s/it]\n",
      "100%|██████████| 35/35 [00:18<00:00,  1.92it/s]\n",
      "100%|██████████| 34/34 [00:00<?, ?it/s]2s/it]\n",
      "100%|██████████| 33/33 [00:19<00:00,  1.70it/s]\n",
      "100%|██████████| 32/32 [00:00<?, ?it/s]4s/it]\n",
      "100%|██████████| 31/31 [00:16<00:00,  1.93it/s]\n",
      "100%|██████████| 30/30 [00:00<?, ?it/s]0s/it]\n",
      "100%|██████████| 29/29 [00:14<00:00,  2.00it/s]\n",
      "100%|██████████| 28/28 [00:00<?, ?it/s]18s/it]\n",
      "100%|██████████| 27/27 [00:13<00:00,  1.98it/s]\n",
      "100%|██████████| 26/26 [00:00<?, ?it/s]48s/it]\n",
      "100%|██████████| 25/25 [00:13<00:00,  1.88it/s]\n",
      "100%|██████████| 24/24 [00:00<?, ?it/s]93s/it]\n",
      "100%|██████████| 23/23 [00:10<00:00,  2.15it/s]\n",
      "100%|██████████| 22/22 [00:00<?, ?it/s]16s/it]\n",
      "100%|██████████| 21/21 [00:10<00:00,  1.93it/s]\n",
      "100%|██████████| 20/20 [00:00<00:00, 2498.54it/s]\n",
      "100%|██████████| 19/19 [00:10<00:00,  1.88it/s]\n",
      "100%|██████████| 18/18 [00:00<?, ?it/s]17s/it]\n",
      "100%|██████████| 17/17 [00:08<00:00,  1.91it/s]\n",
      "100%|██████████| 16/16 [00:00<00:00, 2041.52it/s]\n",
      "100%|██████████| 15/15 [00:08<00:00,  1.68it/s]\n",
      "100%|██████████| 14/14 [00:00<?, ?it/s]30s/it]\n",
      "100%|██████████| 13/13 [00:07<00:00,  1.64it/s]\n",
      "100%|██████████| 12/12 [00:00<?, ?it/s]90s/it]\n",
      "100%|██████████| 11/11 [00:04<00:00,  2.26it/s]\n",
      "100%|██████████| 10/10 [00:00<?, ?it/s]17s/it]\n",
      "100%|██████████| 9/9 [00:04<00:00,  2.19it/s]\n",
      "100%|██████████| 8/8 [00:00<?, ?it/s]3.54s/it]\n",
      "100%|██████████| 7/7 [00:03<00:00,  2.20it/s]\n",
      "100%|██████████| 6/6 [00:00<?, ?it/s]2.95s/it]\n",
      "100%|██████████| 5/5 [00:02<00:00,  2.17it/s]\n",
      "100%|██████████| 4/4 [00:00<?, ?it/s]2.42s/it]\n",
      "100%|██████████| 3/3 [00:01<00:00,  2.53it/s]\n",
      "100%|██████████| 2/2 [00:00<?, ?it/s]1.87s/it]\n",
      "100%|██████████| 1/1 [00:00<?, ?it/s]\n",
      "0it [00:00, ?it/s]\n",
      "Finding Bike Routes: : 39it [03:13,  4.95s/it]\n"
     ]
    }
   ],
   "source": [
    "finder = KakaoRouteFinder()\n",
    "bikes = sorted(seoul_bike.items(), key=lambda item: item[1][3]-item[1][4])\n",
    "bike_routes = {}\n",
    "for i, srt in tqdm(enumerate(bikes), desc=\"Finding Bike Routes: \"):\n",
    "    (_, (srt_name, srt_lat, srt_lng, _, _, srt_coord)) = srt\n",
    "    for j in tqdm(range(i+1, len(bikes))):\n",
    "        if i*j % 2 == 1:\n",
    "            end = bikes[j]\n",
    "            (_, (end_name, end_lat, end_lng, _, _, end_coord)) = end\n",
    "            route = finder.find_route_by_congnamul('bike', srt_coord, end_coord, rt1=str(i), rt2=str(j), verbose=False, init=False, time_delta=0.2)\n",
    "            route_id = f'{i}-{j}'\n",
    "            bike_routes[route_id] = navigator.extract_route('bike', route)\n",
    "del finder"
   ]
  },
  {
   "cell_type": "code",
   "execution_count": 26,
   "metadata": {},
   "outputs": [
    {
     "name": "stderr",
     "output_type": "stream",
     "text": [
      "Finding Transit Routes: 39it [05:09,  7.93s/it]\n"
     ]
    }
   ],
   "source": [
    "finder = KakaoRouteFinder()\n",
    "\n",
    "org_routes = []\n",
    "des_routes = []\n",
    "\n",
    "for i, bike in tqdm(enumerate(bikes), desc=\"Finding Transit Routes\"):\n",
    "    (_, (name, _, _, _, _, coord)) = bike\n",
    "    try:\n",
    "        route = finder.find_route_by_congnamul('transit', (org_x, org_y), coord, rt1=org, rt2=str(i)+name, verbose=False, init=True, time_delta=0.5, init_time=2)\n",
    "        org_routes.append(navigator.extract_route('transit', route))\n",
    "    except:\n",
    "        route = finder.find_route_by_congnamul('walk', (org_x, org_y), coord, rt1=org, rt2=str(i)+name, verbose=False, init=False, time_delta=0.5, init_time=2)\n",
    "        org_routes.append(navigator.extract_route('walk', route))\n",
    "        \n",
    "    try:\n",
    "        route = finder.find_route_by_congnamul('transit', coord, (des_x, des_y), rt1=str(i)+name, rt2=des, verbose=False, init=True, time_delta=0.5, init_time=2)\n",
    "        des_routes.append(navigator.extract_route('transit', route))\n",
    "    except:\n",
    "        route = finder.find_route_by_congnamul('walk', coord, (des_x, des_y), rt1=str(i)+name, rt2=des, verbose=False, init=False, time_delta=0.5, init_time=2)\n",
    "        des_routes.append(navigator.extract_route('walk', route))\n",
    "\n",
    "del finder"
   ]
  },
  {
   "cell_type": "code",
   "execution_count": 27,
   "metadata": {},
   "outputs": [],
   "source": [
    "import pickle\n",
    "\n",
    "filename = f'{org}-{des}.pkl'\n",
    "\n",
    "with open(filename, 'wb') as f:\n",
    "    data = {'org_routes': org_routes, \"des_routes\": des_routes, \"bikes\": bikes, \"bike_routes\": bike_routes }\n",
    "    pickle.dump(data, f, pickle.HIGHEST_PROTOCOL)"
   ]
  },
  {
   "cell_type": "code",
   "execution_count": null,
   "metadata": {},
   "outputs": [],
   "source": []
  }
 ],
 "metadata": {
  "interpreter": {
   "hash": "7357ee85ff53903ea5241e3726a4915c92f341c2a9829a664afcec1d7a92746d"
  },
  "kernelspec": {
   "display_name": "Python 3.8.8 ('base')",
   "language": "python",
   "name": "python3"
  },
  "language_info": {
   "codemirror_mode": {
    "name": "ipython",
    "version": 3
   },
   "file_extension": ".py",
   "mimetype": "text/x-python",
   "name": "python",
   "nbconvert_exporter": "python",
   "pygments_lexer": "ipython3",
   "version": "3.8.8"
  },
  "orig_nbformat": 4
 },
 "nbformat": 4,
 "nbformat_minor": 2
}
