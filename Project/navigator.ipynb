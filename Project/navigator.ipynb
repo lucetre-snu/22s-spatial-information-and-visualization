{
 "cells": [
  {
   "cell_type": "code",
   "execution_count": null,
   "metadata": {},
   "outputs": [],
   "source": [
    "%pip install bs4 selenium webdriver_manager python-dotenv haversine pandas"
   ]
  },
  {
   "cell_type": "code",
   "execution_count": 1,
   "metadata": {},
   "outputs": [],
   "source": [
    "import pandas as pd\n",
    "\n",
    "df_bus = pd.read_csv('bus.csv', encoding='euc-kr')\n",
    "df_subway = pd.read_csv('subway.csv', encoding='euc-kr')\n",
    "df_bike = pd.read_csv('bike.csv', encoding='cp949')"
   ]
  },
  {
   "cell_type": "code",
   "execution_count": 2,
   "metadata": {},
   "outputs": [],
   "source": [
    "# df_bus"
   ]
  },
  {
   "cell_type": "code",
   "execution_count": 3,
   "metadata": {},
   "outputs": [],
   "source": [
    "# df_subway[['code', 'name', 'lat(y)', 'lng']]"
   ]
  },
  {
   "cell_type": "code",
   "execution_count": 4,
   "metadata": {},
   "outputs": [],
   "source": [
    "# df_bike[['대여소\\n번호', \"보관소(대여소)명\", \"위도(Y)\", \"경도(X)\"]]"
   ]
  },
  {
   "cell_type": "code",
   "execution_count": 5,
   "metadata": {},
   "outputs": [],
   "source": [
    "import time\n",
    "from bs4 import BeautifulSoup\n",
    "\n",
    "from selenium import webdriver\n",
    "from selenium.common.exceptions import ElementNotInteractableException\n",
    "from selenium.webdriver.chrome.service import Service\n",
    "from selenium.webdriver.common.by import By\n",
    "from webdriver_manager.chrome import ChromeDriverManager\n",
    "\n",
    "class KakaoRouteFinder:\n",
    "    def __init__(self):\n",
    "        self.driver = webdriver.Chrome(service=Service(ChromeDriverManager().install()))\n",
    "\n",
    "    def fetch_bike(self, verbose=True, init=True, time_delta=0.2):\n",
    "        if init:\n",
    "            self.driver.find_element(by=By.CSS_SELECTOR, value=f\"#biketab\").click()\n",
    "            time.sleep(2)\n",
    "            \n",
    "        if verbose:\n",
    "            print(\" > bike\")\n",
    "            for li in self.driver.find_elements(by=By.CSS_SELECTOR, value=f\"div.BikeRouteResultView > ul > li\"):\n",
    "                li.click()        \n",
    "                time.sleep(time_delta)\n",
    "                \n",
    "        element = self.driver.find_element(by=By.CSS_SELECTOR, value=f\"div.BikeRouteResultView\")\n",
    "        return element.get_attribute('innerHTML')\n",
    "    \n",
    "    def fetch_walk(self, verbose=True, init=True, time_delta=0.2):\n",
    "        if init:\n",
    "            self.driver.find_element(by=By.CSS_SELECTOR, value=f\"#walktab\").click()\n",
    "            time.sleep(time_delta)\n",
    "\n",
    "        if verbose:\n",
    "            print(\" > walk\")\n",
    "\n",
    "        element = self.driver.find_element(by=By.CSS_SELECTOR, value=f\"div.WalkRouteResultView\")\n",
    "        return element.get_attribute('innerHTML')\n",
    "        \n",
    "    def fetch_transit(self, verbose=True, init=True, time_delta=0.2, init_time=2.0):    \n",
    "        if init:\n",
    "            self.driver.find_element(by=By.CSS_SELECTOR, value=f\"#transittab\").click()\n",
    "            time.sleep(init_time)\n",
    "\n",
    "        if verbose:\n",
    "            print(\" > transit\")\n",
    "            for route in self.driver.find_elements(by=By.CSS_SELECTOR, value=f\"li.TransitRouteItem\"):\n",
    "                route.click()\n",
    "                for more_route in route.find_elements(by=By.CSS_SELECTOR, value=f\"span.moreBtn\"):\n",
    "                    more_route.click()\n",
    "                    time.sleep(time_delta)\n",
    "                time.sleep(time_delta)\n",
    "\n",
    "        element = self.driver.find_element(by=By.CSS_SELECTOR, value=f\"ul.TransitTotalPanel\")\n",
    "        return element.get_attribute('innerHTML')\n",
    "\n",
    "    def find_route_by_url(self, type, base_url, verbose=True, init=True, time_delta=0.2, init_time=2.0):\n",
    "        self.driver.get(base_url)\n",
    "        time.sleep(time_delta)\n",
    "\n",
    "        # self.driver.find_element(by=By.CSS_SELECTOR, value=\"body\").click()\n",
    "        # time.sleep(time_delta)\n",
    "        \n",
    "        try:\n",
    "            self.driver.find_element(by=By.CSS_SELECTOR, value=\"#dimmedLayer\").click()\n",
    "        except ElementNotInteractableException:\n",
    "            pass\n",
    "\n",
    "        try:\n",
    "            if (type == 'bike'):\n",
    "                return self.fetch_bike(verbose, init)\n",
    "            elif (type == 'transit'):\n",
    "                return self.fetch_transit(verbose, init, init_time=init_time)\n",
    "            elif (type == 'walk'):\n",
    "                return self.fetch_walk(verbose, init)\n",
    "            else:\n",
    "                return None\n",
    "        except Exception as e:\n",
    "            print('find_route_by_url', e)\n",
    "\n",
    "\n",
    "    def find_route_by_congnamul(self, type, origin, dest, rt1='ORIGIN', rt2='DESTINATION', verbose=False, init=False, time_delta=0.2, init_time=2.0):\n",
    "        (org_x, org_y) = origin\n",
    "        (des_x, des_y) = dest\n",
    "        base_url = f\"https://map.kakao.com/?map_type=TYPE_MAP&target={type}&rt={int(org_x)},{int(org_y)},{int(des_x)},{int(des_y)}&rt1={rt1}&rt2={rt2}\"\n",
    "        return self.find_route_by_url(type, base_url, verbose, init, time_delta, init_time)\n",
    "        \n",
    "\n",
    "    def find_route_by_keyword(self, origin, dest, time_delta=0.2, init_time=2.0):\n",
    "        try:\n",
    "            route = {}\n",
    "            for type in ['transit', 'walk', 'bike']:\n",
    "                base_url = f\"https://map.kakao.com/?map_type=TYPE_MAP&target={type}&sName={origin}&eName={dest}\"\n",
    "                route[type] = self.find_route_by_url(type, base_url, verbose=True, init=(type=='transit'), time_delta=time_delta, init_time=init_time)\n",
    "            return route\n",
    "            \n",
    "        except Exception as e:\n",
    "            print(\"find_route_by_keyword\", e)\n",
    "\n",
    "    def __del__(self):\n",
    "        self.driver.close()"
   ]
  },
  {
   "cell_type": "code",
   "execution_count": 6,
   "metadata": {},
   "outputs": [
    {
     "name": "stderr",
     "output_type": "stream",
     "text": [
      "\n",
      "\n",
      "====== WebDriver manager ======\n",
      "Current google-chrome version is 102.0.5005\n",
      "Get LATEST chromedriver version for 102.0.5005 google-chrome\n",
      "Driver [C:\\Users\\lucet\\.wdm\\drivers\\chromedriver\\win32\\102.0.5005.27\\chromedriver.exe] found in cache\n"
     ]
    },
    {
     "name": "stdout",
     "output_type": "stream",
     "text": [
      " > transit\n",
      " > walk\n",
      " > bike\n"
     ]
    }
   ],
   "source": [
    "# org, des = ('서울시청', '서울고속터미널')\n",
    "org, des = ('대한건축학회', '서울대학교 자하연')\n",
    "routes = KakaoRouteFinder().find_route_by_keyword(org, des, time_delta=0.5, init_time=0.5)"
   ]
  },
  {
   "cell_type": "code",
   "execution_count": 7,
   "metadata": {},
   "outputs": [
    {
     "name": "stdout",
     "output_type": "stream",
     "text": [
      "bike [{'mode': '자전거 도로우선', 'time': '38분', 'distance': '6.2km', 'altitude': '고도 최저 17m, 최고 135m', 'calories': '229kcal'}, {'mode': '최단거리', 'time': '38분', 'distance': '6.1km', 'altitude': '고도 최저 17m, 최고 135m', 'calories': '226kcal'}, {'mode': '편안한길', 'time': '39분', 'distance': '6.4km', 'altitude': '고도 최저 17m, 최고 128m', 'calories': '233kcal'}]\n",
      "walk [{'mode': '큰길우선', 'time': '1시간 33분', 'info': '계단 1회\\n279kcal소모'}, {'mode': '최단거리', 'time': '1시간 25분', 'info': '계단 1회\\n255kcal소모'}, {'mode': '편안한길', 'time': '1시간 35분', 'info': '283kcal소모'}]\n",
      "transit [{'time': '35분', 'info': '도보17분 | 환승1회 | 요금 1,250원 | 7.8km'}, {'time': '40분', 'info': '도보13분 | 환승1회 | 요금 1,200원 | 7.2km'}, {'time': '39분', 'info': '도보19분 | 환승1회 | 요금 1,250원 | 7.7km'}, {'time': '39분', 'info': '도보20분 | 환승1회 | 요금 1,250원 | 8.3km'}, {'time': '43분', 'info': '도보11분 | 환승1회 | 요금 1,200원 | 7.7km'}, {'time': '42분', 'info': '도보13분 | 환승1회 | 요금 1,200원 | 7.5km'}, {'time': '44분', 'info': '도보16분 | 환승1회 | 요금 1,200원 | 7.4km'}, {'time': '40분', 'info': '도보24분 | 환승1회 | 요금 1,250원 | 7.5km'}, {'time': '47분', 'info': '도보14분 | 환승1회 | 요금 1,200원 | 8.2km'}, {'time': '42분', 'info': '도보26분 | 환승1회 | 요금 1,250원 | 7.6km'}]\n"
     ]
    }
   ],
   "source": [
    "def extract_route(type, route):\n",
    "    res = []\n",
    "    soup = BeautifulSoup(route, 'html.parser')\n",
    "    if (type == 'bike'):\n",
    "        for route in (soup.find_all('li', {\"class\": \"BikeRouteItem\"})):\n",
    "            res.append({\n",
    "                \"mode\": route.find('span', {\"class\": \"mode\"}).text,\n",
    "                \"time\": route.find('span', {\"class\": \"time\"}).text.strip(),\n",
    "                \"distance\": route.find('span', {\"class\": \"distance\"}).text,\n",
    "                \"altitude\": route.find('span', {\"class\": \"altitude\"}).text,\n",
    "                \"calories\": route.find('span', {\"class\": \"calories\"}).text,\n",
    "            })\n",
    "    elif (type == 'transit'):\n",
    "        for route in (soup.find_all('li', {\"class\": \"TransitRouteItem\"})):\n",
    "            res.append({\n",
    "                \"time\": route.find('span', {\"class\": \"time\"}).text.strip(),\n",
    "                \"info\": route.find('span', {\"class\": \"walkTime\"}).get('title'),\n",
    "            })\n",
    "    elif (type == 'walk'):\n",
    "        for route in (soup.find_all('li', {\"class\": \"WalkRouteItem\"})):\n",
    "            res.append({\n",
    "                \"mode\": route.find('span', {\"class\": \"mode\"}).text,\n",
    "                \"time\": route.find('span', {\"class\": \"time\"}).text.strip(),\n",
    "                \"info\": route.find('div', {\"class\": \"info\"}).text.strip(),\n",
    "            })\n",
    "    return res\n",
    "\n",
    "for type in ['bike', 'walk', 'transit']:\n",
    "    print(type, extract_route(type, routes[type]))"
   ]
  },
  {
   "cell_type": "markdown",
   "metadata": {},
   "source": [
    "### Coordinate Transform"
   ]
  },
  {
   "cell_type": "code",
   "execution_count": 8,
   "metadata": {},
   "outputs": [
    {
     "name": "stdout",
     "output_type": "stream",
     "text": [
      "https://map.kakao.com/?map_type=TYPE_MAP&target=car&rt=498615,1105833,489405,1100357&rt1=대한건축학회&rt2=서울대학교 자하연\n"
     ]
    }
   ],
   "source": [
    "import requests\n",
    "import dotenv\n",
    "from os import environ\n",
    "from haversine import haversine\n",
    "\n",
    "dotenv.load_dotenv('.env', override=True)\n",
    "\n",
    "def transform(coord, input_coord='WCONGNAMUL', output_coord='WGS84'):\n",
    "    URL = f'https://dapi.kakao.com/v2/local/geo/transcoord.json?x={coord[0]}&y={coord[1]}&input_coord={input_coord}&output_coord={output_coord}'\n",
    "    headers = {'Authorization': f'KakaoAK {environ.get(\"KAKAO_REST_API_KEY\")}'}\n",
    "    new_coord = requests.get(URL, headers=headers).json()['documents'][0]\n",
    "    return (new_coord['x'], new_coord['y'])\n",
    "\n",
    "def get_distance(org, des):\n",
    "    return haversine(org, des, unit='km')\n",
    "\n",
    "def get_nearest_bike(lat, lng):\n",
    "    delta = 5e-3\n",
    "    df = df_bike[(df_bike[\"위도(Y)\"] > lat-delta) & (df_bike[\"위도(Y)\"] < lat+delta) \\\n",
    "               & (df_bike[\"경도(X)\"] > lng-delta) & (df_bike[\"경도(X)\"] < lng+delta) ]\n",
    "\n",
    "    min_bike, min_dist = \"N/A\", float(\"inf\")\n",
    "    for i, bike in df.iterrows():\n",
    "        dist = get_distance((lat, lng), bike[[\"위도(Y)\", \"경도(X)\"]])\n",
    "        if min_dist > dist:\n",
    "            min_dist = dist\n",
    "            min_bike = bike\n",
    "    return min_dist, min_bike\n",
    "\n",
    "def get_coordinate(keyword):\n",
    "    URL = f'https://dapi.kakao.com/v2/local/search/keyword.json?query={keyword}'\n",
    "    headers = {'Authorization': f'KakaoAK {environ.get(\"KAKAO_REST_API_KEY\")}'}\n",
    "    coord = requests.get(URL, headers=headers).json()['documents'][0]\n",
    "    return (float(coord['y']), float(coord['x']))\n",
    "\n",
    "org_coord = get_coordinate(org)\n",
    "des_coord = get_coordinate(des)\n",
    "\n",
    "# get_nearest_bike(37.550007, 126.914825)\n",
    "# transform((495285,1129803), 'WCONGNAMUL', 'WGS84')\n",
    "\n",
    "(org_x, org_y) = transform(org_coord[::-1], 'WGS84', 'WCONGNAMUL')\n",
    "(des_x, des_y) = transform(des_coord[::-1], 'WGS84', 'WCONGNAMUL')\n",
    "print(f'https://map.kakao.com/?map_type=TYPE_MAP&target=car&rt={int(org_x)},{int(org_y)},{int(des_x)},{int(des_y)}&rt1={org}&rt2={des}')"
   ]
  },
  {
   "cell_type": "code",
   "execution_count": 9,
   "metadata": {},
   "outputs": [
    {
     "name": "stdout",
     "output_type": "stream",
     "text": [
      "{'노천강당', '사당역', '인헌초등학교', '예술인마을', '서울여상.서울문영여중고앞', '방배역', '가족생활동', '관악구청', '대학원생활관', '서울대학교', '서울대입구역', '관악경찰서.관악소방서', '낙성대입구', '호암교수회관', '서울대학교 자하연', '자연대.행정관입구', '종로교회', '행운동주민센터', '경영대', '낙성대역', '관악사삼거리', '낙성대공원.영어마을', '법대.사회대입구', '대우효령아파트', '학부생활관', '서울미술고.인헌중고', '서울과학전시관', '수의대입구.보건대학원앞', '서울교통공사', '사당1동관악시장앞', '낙성대현대아파트', '봉천사거리.봉천중앙시장', '서울대입구역5번출구', '서울대정문', '서울대학교.치과병원.동물병원', '인헌아파트', '국제대학원', '서울대후문.연구공원', '대한건축학회', '봉천사거리.위버폴리스'}\n"
     ]
    }
   ],
   "source": [
    "soup = BeautifulSoup(routes['transit'], 'html.parser')\n",
    "S = set()\n",
    "for route in (soup.find_all('li', {\"class\": \"TransitRouteItem\"})):\n",
    "    nodes = [name.text.strip().replace(\" 승차\", \"\").replace(\" 하차\", \"\").replace(\" 정류장\", \"\") for name in route.find_all('a', {\"data-id\": \"name\"})]\n",
    "    # print(nodes)\n",
    "    S.update(nodes)\n",
    "    nodes = [node.text.strip() for node in route.find_all('li', {\"class\": \"nodeName\"})]\n",
    "    # print(nodes)\n",
    "    S.update(nodes)\n",
    "print(S)"
   ]
  },
  {
   "cell_type": "code",
   "execution_count": 10,
   "metadata": {},
   "outputs": [
    {
     "name": "stderr",
     "output_type": "stream",
     "text": [
      "Retrieve Seoul Bike Stations: 100%|██████████| 40/40 [00:02<00:00, 13.66it/s]\n"
     ]
    },
    {
     "name": "stdout",
     "output_type": "stream",
     "text": [
      "2104 사당역 5번출구 (37.47608948, 126.9813309) -1.8994199110750185 (495872.0, 1104626.0)\n",
      "3813 낙성대역 5번출구 (37.47752762, 126.9627686) 0.6564455118418944 (491767.0, 1105027.0)\n",
      "3815 광일빌딩 (37.47639847, 126.9768372) -1.2383071981719203 (494878.0, 1104712.0)\n",
      "3806 낙성대 교수아파트 (37.46895981, 126.9576569) 2.3884253691169786 (490636.0, 1102650.0)\n",
      "4318 방배역 2번 출구 (37.48116684, 126.9975891) -4.265729494145317 (499467.0, 1106035.0)\n",
      "2128 관악구청교차로 (37.47916412, 126.9525833) 1.5799665706116306 (489515.0, 1105482.0)\n",
      "2178 서울대학교 정문 (37.46681976, 126.9488068) 3.5038905284969166 (488678.0, 1102057.0)\n",
      "2111 서울대입구역 1번출구 (37.48086929, 126.9533157) 1.3211163595937352 (489677.0, 1105955.0)\n",
      "2129 낙성대 과학전시관 (37.46905518, 126.9581451) 2.3143396046693194 (490744.0, 1102676.0)\n",
      "2506 LG유플러스 (방배사옥) (37.47909164, 126.9906769) -3.6632150633489067 (497938.0, 1105459.0)\n",
      "2198 사랑의병원 (37.47946548, 126.9569321) 1.1190347542006105 (490477.0, 1105565.0)\n",
      "2148 낙성대역 3번출구 뒤 (37.47702789, 126.9633942) 0.6323660182328843 (491905.0, 1104888.0)\n",
      "2130 영어마을 관악캠프 (37.47198868, 126.9584274) 1.8799562964369896 (490806.0, 1103490.0)\n",
      "2165 JK장평타워 (37.47648239, 126.9653626) 0.4320688190782569 (492341.0, 1104736.0)\n",
      "2281 연세사랑병원신관앞 (37.47597885, 126.9862824) -2.638898798804626 (496967.0, 1104595.0)\n",
      "2159 인헌초교 (37.47509003, 126.9592285) 1.3826590591307744 (490984.0, 1104351.0)\n",
      "2119 중앙동 동진빌딩 (37.48425674, 126.9546967) 0.8407948704666071 (489983.0, 1106894.0)\n",
      "2116 에이스에이존빌딩 (37.48170471, 126.9508286) 1.4498447160018961 (489127.0, 1106187.0)\n"
     ]
    }
   ],
   "source": [
    "from tqdm import tqdm\n",
    "\n",
    "seoul_bike = {}\n",
    "for s in tqdm(S, desc=\"Retrieve Seoul Bike Stations: \"):\n",
    "    bus = df_bus[df_bus['정류소명'] == s]\n",
    "    subway = df_subway[df_subway['name'] == s.replace('역', '')]\n",
    "    try:\n",
    "        if len(subway):\n",
    "            lat, lng = subway[['lat(y)', 'lng']].iloc[0]\n",
    "        elif len(bus):\n",
    "            lat, lng = bus[['Y좌표', 'X좌표']].iloc[0]\n",
    "        else:\n",
    "            # print(s, 'N/A')\n",
    "            continue\n",
    "        _, bike = get_nearest_bike(float(lat), float(lng))\n",
    "        bike_id, bike_name, bike_lat, bike_lng = bike[['대여소\\n번호', '보관소(대여소)명', '위도(Y)', '경도(X)']]\n",
    "        # print(s, lat, lng, bike_name)\n",
    "        congnamul = transform((bike_lng, bike_lat), 'WGS84', 'WCONGNAMUL')\n",
    "        seoul_bike[bike_id] = ( \\\n",
    "            bike_name, \\\n",
    "            bike_lat, \\\n",
    "            bike_lng, \\\n",
    "            get_distance(org_coord, (bike_lat, bike_lng)), \\\n",
    "            get_distance(des_coord, (bike_lat, bike_lng)), \\\n",
    "            congnamul,\n",
    "        )\n",
    "    except:\n",
    "        # print('N/A')\n",
    "        pass\n",
    "\n",
    "for id in seoul_bike.keys():\n",
    "    name, lat, lng, org_dist, des_dist, congnamul = seoul_bike[id]\n",
    "    coord = (lat, lng)\n",
    "    print(id, name, coord, org_dist-des_dist, congnamul)"
   ]
  },
  {
   "cell_type": "code",
   "execution_count": 11,
   "metadata": {},
   "outputs": [
    {
     "name": "stderr",
     "output_type": "stream",
     "text": [
      "\n",
      "\n",
      "====== WebDriver manager ======\n",
      "Current google-chrome version is 102.0.5005\n",
      "Get LATEST chromedriver version for 102.0.5005 google-chrome\n",
      "Driver [C:\\Users\\lucet\\.wdm\\drivers\\chromedriver\\win32\\102.0.5005.27\\chromedriver.exe] found in cache\n",
      "100%|██████████| 17/17 [00:22<00:00,  1.32s/it]\n",
      "100%|██████████| 16/16 [00:18<00:00,  1.15s/it]\n",
      "100%|██████████| 15/15 [00:16<00:00,  1.10s/it]\n",
      "100%|██████████| 14/14 [00:13<00:00,  1.03it/s]\n",
      "100%|██████████| 13/13 [00:10<00:00,  1.20it/s]\n",
      "100%|██████████| 12/12 [00:13<00:00,  1.15s/it]\n",
      "100%|██████████| 11/11 [00:12<00:00,  1.11s/it]\n",
      "100%|██████████| 10/10 [00:09<00:00,  1.01it/s]\n",
      "100%|██████████| 9/9 [00:10<00:00,  1.17s/it]\n",
      "100%|██████████| 8/8 [00:07<00:00,  1.03it/s]\n",
      "100%|██████████| 7/7 [00:07<00:00,  1.09s/it]]\n",
      "100%|██████████| 6/6 [00:07<00:00,  1.21s/it]]\n",
      "100%|██████████| 5/5 [00:05<00:00,  1.12s/it]]\n",
      "100%|██████████| 4/4 [00:04<00:00,  1.15s/it]]\n",
      "100%|██████████| 3/3 [00:03<00:00,  1.12s/it]]\n",
      "100%|██████████| 2/2 [00:02<00:00,  1.30s/it]]\n",
      "100%|██████████| 1/1 [00:01<00:00,  1.01s/it]]\n",
      "0it [00:00, ?it/s]s: : 17it [02:48,  3.76s/it]\n",
      "Finding Bike Routes: : 18it [02:48,  9.35s/it]\n"
     ]
    }
   ],
   "source": [
    "finder = KakaoRouteFinder()\n",
    "bikes = sorted(seoul_bike.items(), key=lambda item: item[1][3]-item[1][4])\n",
    "bike_routes = {}\n",
    "for i, srt in tqdm(enumerate(bikes), desc=\"Finding Bike Routes: \"):\n",
    "    (_, (srt_name, srt_lat, srt_lng, _, _, srt_coord)) = srt\n",
    "    for j in tqdm(range(i+1, len(bikes))):\n",
    "        end = bikes[j]\n",
    "        (_, (end_name, end_lat, end_lng, _, _, end_coord)) = end\n",
    "        route = finder.find_route_by_congnamul('bike', srt_coord, end_coord, rt1=str(i), rt2=str(j), verbose=False, init=False, time_delta=0.2)\n",
    "        route_id = f'{i}-{j}'\n",
    "        bike_routes[route_id] = extract_route('bike', route)\n",
    "        # print(f'({route_id})', srt_name, end_name, bike_routes[route_id][0]['time'])\n",
    "        # break\n",
    "    # break\n",
    "del finder"
   ]
  },
  {
   "cell_type": "code",
   "execution_count": 13,
   "metadata": {},
   "outputs": [
    {
     "name": "stderr",
     "output_type": "stream",
     "text": [
      "\n",
      "\n",
      "====== WebDriver manager ======\n",
      "Current google-chrome version is 102.0.5005\n",
      "Get LATEST chromedriver version for 102.0.5005 google-chrome\n",
      "Driver [C:\\Users\\lucet\\.wdm\\drivers\\chromedriver\\win32\\102.0.5005.27\\chromedriver.exe] found in cache\n",
      "Finding Transit Routes: : 18it [01:16,  4.23s/it]\n"
     ]
    }
   ],
   "source": [
    "finder = KakaoRouteFinder()\n",
    "\n",
    "org_routes = []\n",
    "des_routes = []\n",
    "for i, bike in tqdm(enumerate(bikes), desc=\"Finding Transit Routes: \"):\n",
    "    (_, (name, _, _, _, _, coord)) = bike\n",
    "    route = finder.find_route_by_congnamul('transit', (org_x, org_y), coord, rt1=org, rt2=name, verbose=False, init=True, time_delta=0.2, init_time=0.5)\n",
    "    org_routes.append(extract_route('transit', route))\n",
    "    route = finder.find_route_by_congnamul('transit', coord, (des_x, des_y), rt1=name, rt2=des, verbose=False, init=True, time_delta=0.2, init_time=0.5)\n",
    "    des_routes.append(extract_route('transit', route))\n",
    "\n",
    "del finder"
   ]
  },
  {
   "cell_type": "code",
   "execution_count": 14,
   "metadata": {},
   "outputs": [
    {
     "name": "stderr",
     "output_type": "stream",
     "text": [
      "Optimizing Routes: : 6it [00:00, 53.57it/s]"
     ]
    },
    {
     "name": "stdout",
     "output_type": "stream",
     "text": [
      "(0-1 - 55) 대한건축학회 6분 방배역 2번 출구 8분 LG유플러스 (방배사옥) 41분 서울대학교 자하연\n",
      "(0-2 - 49) 대한건축학회 6분 방배역 2번 출구 9분 연세사랑병원신관앞 34분 서울대학교 자하연\n",
      "(0-3 - 51) 대한건축학회 12분 방배역 2번 출구 11분 사당역 5번출구 28분 서울대학교 자하연\n",
      "(0-4 - 59) 대한건축학회 11분 방배역 2번 출구 14분 광일빌딩 34분 서울대학교 자하연\n",
      "(0-5 - 61) 대한건축학회 13분 방배역 2번 출구 20분 JK장평타워 28분 서울대학교 자하연\n",
      "(0-6 - 64) 대한건축학회 17분 방배역 2번 출구 23분 낙성대역 3번출구 뒤 24분 서울대학교 자하연\n",
      "(0-7 - 64) 대한건축학회 16분 방배역 2번 출구 21분 낙성대역 5번출구 27분 서울대학교 자하연\n",
      "(0-8 - 73) 대한건축학회 24분 방배역 2번 출구 27분 중앙동 동진빌딩 22분 서울대학교 자하연\n",
      "(0-9 - 71) 대한건축학회 21분 방배역 2번 출구 24분 사랑의병원 26분 서울대학교 자하연\n",
      "(0-10 - 63) 대한건축학회 18분 방배역 2번 출구 25분 서울대입구역 1번출구 20분 서울대학교 자하연\n",
      "(0-11 - 70) 대한건축학회 24분 방배역 2번 출구 26분 인헌초교 20분 서울대학교 자하연\n",
      "(0-12 - 67) 대한건축학회 20분 방배역 2번 출구 25분 에이스에이존빌딩 22분 서울대학교 자하연\n",
      "(0-13 - 69) 대한건축학회 21분 방배역 2번 출구 27분 관악구청교차로 21분 서울대학교 자하연\n",
      "(0-14 - 68) 대한건축학회 24분 방배역 2번 출구 27분 영어마을 관악캠프 17분 서울대학교 자하연\n",
      "(0-15 - 70) 대한건축학회 26분 방배역 2번 출구 29분 낙성대 과학전시관 15분 서울대학교 자하연\n",
      "(0-16 - 68) 대한건축학회 25분 방배역 2번 출구 29분 낙성대 교수아파트 14분 서울대학교 자하연\n",
      "(0-17 - 80) 대한건축학회 28분 방배역 2번 출구 40분 서울대학교 정문 12분 서울대학교 자하연\n",
      "(1-2 - 46) 대한건축학회 6분 LG유플러스 (방배사옥) 6분 연세사랑병원신관앞 34분 서울대학교 자하연\n",
      "(1-3 - 47) 대한건축학회 12분 LG유플러스 (방배사옥) 7분 사당역 5번출구 28분 서울대학교 자하연\n",
      "(1-4 - 56) 대한건축학회 11분 LG유플러스 (방배사옥) 11분 광일빌딩 34분 서울대학교 자하연\n",
      "(1-5 - 58) 대한건축학회 13분 LG유플러스 (방배사옥) 17분 JK장평타워 28분 서울대학교 자하연\n",
      "(1-6 - 61) 대한건축학회 17분 LG유플러스 (방배사옥) 20분 낙성대역 3번출구 뒤 24분 서울대학교 자하연\n",
      "(1-7 - 61) 대한건축학회 16분 LG유플러스 (방배사옥) 18분 낙성대역 5번출구 27분 서울대학교 자하연\n",
      "(1-8 - 70) 대한건축학회 24분 LG유플러스 (방배사옥) 24분 중앙동 동진빌딩 22분 서울대학교 자하연\n",
      "(1-9 - 68) 대한건축학회 21분 LG유플러스 (방배사옥) 21분 사랑의병원 26분 서울대학교 자하연\n",
      "(1-10 - 60) 대한건축학회 18분 LG유플러스 (방배사옥) 22분 서울대입구역 1번출구 20분 서울대학교 자하연\n",
      "(1-11 - 67) 대한건축학회 24분 LG유플러스 (방배사옥) 23분 인헌초교 20분 서울대학교 자하연\n",
      "(1-12 - 64) 대한건축학회 20분 LG유플러스 (방배사옥) 22분 에이스에이존빌딩 22분 서울대학교 자하연\n",
      "(1-13 - 66) 대한건축학회 21분 LG유플러스 (방배사옥) 24분 관악구청교차로 21분 서울대학교 자하연\n",
      "(1-14 - 65) 대한건축학회 24분 LG유플러스 (방배사옥) 24분 영어마을 관악캠프 17분 서울대학교 자하연\n",
      "(1-15 - 67) 대한건축학회 26분 LG유플러스 (방배사옥) 26분 낙성대 과학전시관 15분 서울대학교 자하연\n",
      "(1-16 - 64) 대한건축학회 25분 LG유플러스 (방배사옥) 25분 낙성대 교수아파트 14분 서울대학교 자하연\n",
      "(1-17 - 76) 대한건축학회 28분 LG유플러스 (방배사옥) 36분 서울대학교 정문 12분 서울대학교 자하연\n",
      "(2-3 - 43) 대한건축학회 12분 연세사랑병원신관앞 3분 사당역 5번출구 28분 서울대학교 자하연\n",
      "(2-4 - 52) 대한건축학회 11분 연세사랑병원신관앞 7분 광일빌딩 34분 서울대학교 자하연\n",
      "(2-5 - 54) 대한건축학회 13분 연세사랑병원신관앞 13분 JK장평타워 28분 서울대학교 자하연\n",
      "(2-6 - 56) 대한건축학회 17분 연세사랑병원신관앞 15분 낙성대역 3번출구 뒤 24분 서울대학교 자하연\n",
      "(2-7 - 56) 대한건축학회 16분 연세사랑병원신관앞 13분 낙성대역 5번출구 27분 서울대학교 자하연\n",
      "(2-8 - 65) 대한건축학회 24분 연세사랑병원신관앞 19분 중앙동 동진빌딩 22분 서울대학교 자하연\n",
      "(2-9 - 63) 대한건축학회 21분 연세사랑병원신관앞 16분 사랑의병원 26분 서울대학교 자하연\n",
      "(2-10 - 55) 대한건축학회 18분 연세사랑병원신관앞 17분 서울대입구역 1번출구 20분 서울대학교 자하연\n",
      "(2-11 - 63) 대한건축학회 24분 연세사랑병원신관앞 19분 인헌초교 20분 서울대학교 자하연\n",
      "(2-12 - 60) 대한건축학회 20분 연세사랑병원신관앞 18분 에이스에이존빌딩 22분 서울대학교 자하연\n",
      "(2-13 - 61) 대한건축학회 21분 연세사랑병원신관앞 19분 관악구청교차로 21분 서울대학교 자하연\n",
      "(2-14 - 60) 대한건축학회 24분 연세사랑병원신관앞 19분 영어마을 관악캠프 17분 서울대학교 자하연\n",
      "(2-15 - 63) 대한건축학회 26분 연세사랑병원신관앞 22분 낙성대 과학전시관 15분 서울대학교 자하연\n",
      "(2-16 - 60) 대한건축학회 25분 연세사랑병원신관앞 21분 낙성대 교수아파트 14분 서울대학교 자하연\n",
      "(2-17 - 72) 대한건축학회 28분 연세사랑병원신관앞 32분 서울대학교 정문 12분 서울대학교 자하연\n",
      "(3-4 - 48) 대한건축학회 11분 사당역 5번출구 3분 광일빌딩 34분 서울대학교 자하연\n",
      "(3-5 - 51) 대한건축학회 13분 사당역 5번출구 10분 JK장평타워 28분 서울대학교 자하연\n",
      "(3-6 - 54) 대한건축학회 17분 사당역 5번출구 13분 낙성대역 3번출구 뒤 24분 서울대학교 자하연\n",
      "(3-7 - 54) 대한건축학회 16분 사당역 5번출구 11분 낙성대역 5번출구 27분 서울대학교 자하연\n",
      "(3-8 - 63) 대한건축학회 24분 사당역 5번출구 17분 중앙동 동진빌딩 22분 서울대학교 자하연\n",
      "(3-9 - 61) 대한건축학회 21분 사당역 5번출구 14분 사랑의병원 26분 서울대학교 자하연\n",
      "(3-10 - 53) 대한건축학회 18분 사당역 5번출구 15분 서울대입구역 1번출구 20분 서울대학교 자하연\n",
      "(3-11 - 61) 대한건축학회 24분 사당역 5번출구 17분 인헌초교 20분 서울대학교 자하연\n",
      "(3-12 - 57) 대한건축학회 20분 사당역 5번출구 15분 에이스에이존빌딩 22분 서울대학교 자하연\n",
      "(3-13 - 59) 대한건축학회 21분 사당역 5번출구 17분 관악구청교차로 21분 서울대학교 자하연\n",
      "(3-14 - 58) 대한건축학회 24분 사당역 5번출구 17분 영어마을 관악캠프 17분 서울대학교 자하연\n",
      "(3-15 - 61) 대한건축학회 26분 사당역 5번출구 20분 낙성대 과학전시관 15분 서울대학교 자하연\n",
      "(3-16 - 58) 대한건축학회 25분 사당역 5번출구 19분 낙성대 교수아파트 14분 서울대학교 자하연\n",
      "(3-17 - 70) 대한건축학회 28분 사당역 5번출구 30분 서울대학교 정문 12분 서울대학교 자하연\n",
      "(4-5 - 50) 대한건축학회 13분 광일빌딩 9분 JK장평타워 28분 서울대학교 자하연\n",
      "(4-6 - 52) 대한건축학회 17분 광일빌딩 11분 낙성대역 3번출구 뒤 24분 서울대학교 자하연\n",
      "(4-7 - 52) 대한건축학회 16분 광일빌딩 9분 낙성대역 5번출구 27분 서울대학교 자하연\n",
      "(4-8 - 61) 대한건축학회 24분 광일빌딩 15분 중앙동 동진빌딩 22분 서울대학교 자하연\n",
      "(4-9 - 59) 대한건축학회 21분 광일빌딩 12분 사랑의병원 26분 서울대학교 자하연\n",
      "(4-10 - 51) 대한건축학회 18분 광일빌딩 13분 서울대입구역 1번출구 20분 서울대학교 자하연\n",
      "(4-11 - 59) 대한건축학회 24분 광일빌딩 15분 인헌초교 20분 서울대학교 자하연\n",
      "(4-12 - 56) 대한건축학회 20분 광일빌딩 14분 에이스에이존빌딩 22분 서울대학교 자하연\n",
      "(4-13 - 57) 대한건축학회 21분 광일빌딩 15분 관악구청교차로 21분 서울대학교 자하연\n",
      "(4-14 - 56) 대한건축학회 24분 광일빌딩 15분 영어마을 관악캠프 17분 서울대학교 자하연\n",
      "(4-15 - 59) 대한건축학회 26분 광일빌딩 18분 낙성대 과학전시관 15분 서울대학교 자하연\n",
      "(4-16 - 56) 대한건축학회 25분 광일빌딩 17분 낙성대 교수아파트 14분 서울대학교 자하연\n",
      "(4-17 - 68) 대한건축학회 28분 광일빌딩 28분 서울대학교 정문 12분 서울대학교 자하연\n",
      "(5-6 - 44) 대한건축학회 17분 JK장평타워 3분 낙성대역 3번출구 뒤 24분 서울대학교 자하연\n",
      "(5-7 - 44) 대한건축학회 16분 JK장평타워 1분 낙성대역 5번출구 27분 서울대학교 자하연\n",
      "(5-8 - 53) 대한건축학회 24분 JK장평타워 7분 중앙동 동진빌딩 22분 서울대학교 자하연\n",
      "(5-9 - 51) 대한건축학회 21분 JK장평타워 4분 사랑의병원 26분 서울대학교 자하연\n",
      "(5-10 - 43) 대한건축학회 18분 JK장평타워 5분 서울대입구역 1번출구 20분 서울대학교 자하연\n",
      "(5-11 - 50) 대한건축학회 24분 JK장평타워 6분 인헌초교 20분 서울대학교 자하연\n",
      "(5-12 - 47) 대한건축학회 20분 JK장평타워 5분 에이스에이존빌딩 22분 서울대학교 자하연\n",
      "(5-13 - 49) 대한건축학회 21분 JK장평타워 7분 관악구청교차로 21분 서울대학교 자하연\n",
      "(5-14 - 48) 대한건축학회 24분 JK장평타워 7분 영어마을 관악캠프 17분 서울대학교 자하연\n",
      "(5-15 - 50) 대한건축학회 26분 JK장평타워 9분 낙성대 과학전시관 15분 서울대학교 자하연\n",
      "(5-16 - 47) 대한건축학회 25분 JK장평타워 8분 낙성대 교수아파트 14분 서울대학교 자하연\n",
      "(5-17 - 59) 대한건축학회 28분 JK장평타워 19분 서울대학교 정문 12분 서울대학교 자하연\n",
      "(6-7 - 44) 대한건축학회 16분 낙성대역 3번출구 뒤 1분 낙성대역 5번출구 27분 서울대학교 자하연\n",
      "(6-8 - 53) 대한건축학회 24분 낙성대역 3번출구 뒤 7분 중앙동 동진빌딩 22분 서울대학교 자하연\n",
      "(6-9 - 51) 대한건축학회 21분 낙성대역 3번출구 뒤 4분 사랑의병원 26분 서울대학교 자하연\n",
      "(6-10 - 43) 대한건축학회 18분 낙성대역 3번출구 뒤 5분 서울대입구역 1번출구 20분 서울대학교 자하연\n",
      "(6-11 - 51) 대한건축학회 24분 낙성대역 3번출구 뒤 7분 인헌초교 20분 서울대학교 자하연\n",
      "(6-12 - 47) 대한건축학회 20분 낙성대역 3번출구 뒤 5분 에이스에이존빌딩 22분 서울대학교 자하연\n",
      "(6-13 - 49) 대한건축학회 21분 낙성대역 3번출구 뒤 7분 관악구청교차로 21분 서울대학교 자하연\n",
      "(6-14 - 48) 대한건축학회 24분 낙성대역 3번출구 뒤 7분 영어마을 관악캠프 17분 서울대학교 자하연\n",
      "(6-15 - 51) 대한건축학회 26분 낙성대역 3번출구 뒤 10분 낙성대 과학전시관 15분 서울대학교 자하연\n",
      "(6-16 - 48) 대한건축학회 25분 낙성대역 3번출구 뒤 9분 낙성대 교수아파트 14분 서울대학교 자하연\n",
      "(6-17 - 60) 대한건축학회 28분 낙성대역 3번출구 뒤 20분 서울대학교 정문 12분 서울대학교 자하연\n",
      "(7-8 - 52) 대한건축학회 24분 낙성대역 5번출구 6분 중앙동 동진빌딩 22분 서울대학교 자하연\n",
      "(7-9 - 50) 대한건축학회 21분 낙성대역 5번출구 3분 사랑의병원 26분 서울대학교 자하연\n",
      "(7-10 - 42) 대한건축학회 18분 낙성대역 5번출구 4분 서울대입구역 1번출구 20분 서울대학교 자하연\n",
      "(7-11 - 50) 대한건축학회 24분 낙성대역 5번출구 6분 인헌초교 20분 서울대학교 자하연\n",
      "(7-12 - 47) 대한건축학회 20분 낙성대역 5번출구 5분 에이스에이존빌딩 22분 서울대학교 자하연\n",
      "(7-13 - 48) 대한건축학회 21분 낙성대역 5번출구 6분 관악구청교차로 21분 서울대학교 자하연\n",
      "(7-14 - 47) 대한건축학회 24분 낙성대역 5번출구 6분 영어마을 관악캠프 17분 서울대학교 자하연\n",
      "(7-15 - 50) 대한건축학회 26분 낙성대역 5번출구 9분 낙성대 과학전시관 15분 서울대학교 자하연\n",
      "(7-16 - 47) 대한건축학회 25분 낙성대역 5번출구 8분 낙성대 교수아파트 14분 서울대학교 자하연\n",
      "(7-17 - 59) 대한건축학회 28분 낙성대역 5번출구 19분 서울대학교 정문 12분 서울대학교 자하연\n",
      "(8-9 - 51) 대한건축학회 21분 중앙동 동진빌딩 4분 사랑의병원 26분 서울대학교 자하연\n",
      "(8-10 - 40) 대한건축학회 18분 중앙동 동진빌딩 2분 서울대입구역 1번출구 20분 서울대학교 자하연\n",
      "(8-11 - 53) 대한건축학회 24분 중앙동 동진빌딩 9분 인헌초교 20분 서울대학교 자하연\n",
      "(8-12 - 44) 대한건축학회 20분 중앙동 동진빌딩 2분 에이스에이존빌딩 22분 서울대학교 자하연\n",
      "(8-13 - 46) 대한건축학회 21분 중앙동 동진빌딩 4분 관악구청교차로 21분 서울대학교 자하연\n",
      "(8-14 - 51) 대한건축학회 24분 중앙동 동진빌딩 10분 영어마을 관악캠프 17분 서울대학교 자하연\n",
      "(8-15 - 53) 대한건축학회 26분 중앙동 동진빌딩 12분 낙성대 과학전시관 15분 서울대학교 자하연\n",
      "(8-16 - 50) 대한건축학회 25분 중앙동 동진빌딩 11분 낙성대 교수아파트 14분 서울대학교 자하연\n",
      "(8-17 - 57) 대한건축학회 28분 중앙동 동진빌딩 17분 서울대학교 정문 12분 서울대학교 자하연\n",
      "(9-10 - 42) 대한건축학회 18분 사랑의병원 4분 서울대입구역 1번출구 20분 서울대학교 자하연\n",
      "(9-11 - 49) 대한건축학회 24분 사랑의병원 5분 인헌초교 20분 서울대학교 자하연\n",
      "(9-12 - 46) 대한건축학회 20분 사랑의병원 4분 에이스에이존빌딩 22분 서울대학교 자하연\n",
      "(9-13 - 47) 대한건축학회 21분 사랑의병원 5분 관악구청교차로 21분 서울대학교 자하연\n",
      "(9-14 - 46) 대한건축학회 24분 사랑의병원 5분 영어마을 관악캠프 17분 서울대학교 자하연\n",
      "(9-15 - 49) 대한건축학회 26분 사랑의병원 8분 낙성대 과학전시관 15분 서울대학교 자하연\n",
      "(9-16 - 46) 대한건축학회 25분 사랑의병원 7분 낙성대 교수아파트 14분 서울대학교 자하연\n",
      "(9-17 - 58) 대한건축학회 28분 사랑의병원 18분 서울대학교 정문 12분 서울대학교 자하연\n",
      "(10-11 - 51) 대한건축학회 24분 서울대입구역 1번출구 7분 인헌초교 20분 서울대학교 자하연\n",
      "(10-12 - 44) 대한건축학회 20분 서울대입구역 1번출구 2분 에이스에이존빌딩 22분 서울대학교 자하연\n",
      "(10-13 - 44) 대한건축학회 21분 서울대입구역 1번출구 2분 관악구청교차로 21분 서울대학교 자하연\n",
      "(10-14 - 48) 대한건축학회 24분 서울대입구역 1번출구 7분 영어마을 관악캠프 17분 서울대학교 자하연\n",
      "(10-15 - 51) 대한건축학회 26분 서울대입구역 1번출구 10분 낙성대 과학전시관 15분 서울대학교 자하연\n",
      "(10-16 - 48) 대한건축학회 25분 서울대입구역 1번출구 9분 낙성대 교수아파트 14분 서울대학교 자하연\n",
      "(10-17 - 56) 대한건축학회 28분 서울대입구역 1번출구 16분 서울대학교 정문 12분 서울대학교 자하연\n",
      "(11-12 - 48) 대한건축학회 20분 인헌초교 6분 에이스에이존빌딩 22분 서울대학교 자하연\n",
      "(11-13 - 46) 대한건축학회 21분 인헌초교 4분 관악구청교차로 21분 서울대학교 자하연\n",
      "(11-14 - 44) 대한건축학회 24분 인헌초교 3분 영어마을 관악캠프 17분 서울대학교 자하연\n",
      "(11-15 - 47) 대한건축학회 26분 인헌초교 6분 낙성대 과학전시관 15분 서울대학교 자하연\n",
      "(11-16 - 44) 대한건축학회 25분 인헌초교 5분 낙성대 교수아파트 14분 서울대학교 자하연\n",
      "(11-17 - 57) 대한건축학회 28분 인헌초교 17분 서울대학교 정문 12분 서울대학교 자하연\n",
      "(12-13 - 45) 대한건축학회 21분 에이스에이존빌딩 3분 관악구청교차로 21분 서울대학교 자하연\n",
      "(12-14 - 50) 대한건축학회 24분 에이스에이존빌딩 9분 영어마을 관악캠프 17분 서울대학교 자하연\n",
      "(12-15 - 53) 대한건축학회 26분 에이스에이존빌딩 12분 낙성대 과학전시관"
     ]
    },
    {
     "name": "stderr",
     "output_type": "stream",
     "text": [
      "                                           "
     ]
    },
    {
     "name": "stdout",
     "output_type": "stream",
     "text": [
      " 15분 서울대학교 자하연\n",
      "(12-16 - 50) 대한건축학회 25분 에이스에이존빌딩 11분 낙성대 교수아파트 14분 서울대학교 자하연\n",
      "(12-17 - 56) 대한건축학회 28분 에이스에이존빌딩 16분 서울대학교 정문 12분 서울대학교 자하연\n",
      "(13-14 - 49) 대한건축학회 24분 관악구청교차로 8분 영어마을 관악캠프 17분 서울대학교 자하연\n",
      "(13-15 - 51) 대한건축학회 26분 관악구청교차로 10분 낙성대 과학전시관 15분 서울대학교 자하연\n",
      "(13-16 - 48) 대한건축학회 25분 관악구청교차로 9분 낙성대 교수아파트 14분 서울대학교 자하연\n",
      "(13-17 - 55) 대한건축학회 28분 관악구청교차로 15분 서울대학교 정문 12분 서울대학교 자하연\n",
      "(14-15 - 43) 대한건축학회 26분 영어마을 관악캠프 2분 낙성대 과학전시관 15분 서울대학교 자하연\n",
      "(14-16 - 41) 대한건축학회 25분 영어마을 관악캠프 2분 낙성대 교수아파트 14분 서울대학교 자하연\n",
      "(14-17 - 54) 대한건축학회 28분 영어마을 관악캠프 14분 서울대학교 정문 12분 서울대학교 자하연\n",
      "(15-16 - 40) 대한건축학회 25분 낙성대 과학전시관 1분 낙성대 교수아파트 14분 서울대학교 자하연\n",
      "(15-17 - 54) 대한건축학회 28분 낙성대 과학전시관 14분 서울대학교 정문 12분 서울대학교 자하연\n",
      "(16-17 - 53) 대한건축학회 28분 낙성대 교수아파트 13분 서울대학교 정문 12분 서울대학교 자하연\n"
     ]
    },
    {
     "name": "stderr",
     "output_type": "stream",
     "text": [
      "\r"
     ]
    }
   ],
   "source": [
    "for i, srt in tqdm(enumerate(bikes), desc=\"Optimizing Routes: \", leave=False):\n",
    "    (_, (srt_name, srt_lat, srt_lng, _, _, srt_coord)) = srt\n",
    "    for j in range(i+1, len(bikes)):\n",
    "        (_, (end_name, end_lat, end_lng, _, _, end_coord)) = bikes[j]\n",
    "        route_id = f'{i}-{j}'\n",
    "        org_time = org_routes[j][0]['time']\n",
    "        bike_time = bike_routes[route_id][0]['time']\n",
    "        des_time = des_routes[j][0]['time']\n",
    "        total_time = int(org_time[:-1]) + int(bike_time[:-1]) + int(des_time[:-1])\n",
    "        print(f'({route_id} - {total_time})', org, org_time, srt_name, bike_time, end_name, des_time, des)\n",
    "    "
   ]
  },
  {
   "cell_type": "code",
   "execution_count": null,
   "metadata": {},
   "outputs": [],
   "source": []
  }
 ],
 "metadata": {
  "interpreter": {
   "hash": "7357ee85ff53903ea5241e3726a4915c92f341c2a9829a664afcec1d7a92746d"
  },
  "kernelspec": {
   "display_name": "Python 3.8.8 ('base')",
   "language": "python",
   "name": "python3"
  },
  "language_info": {
   "codemirror_mode": {
    "name": "ipython",
    "version": 3
   },
   "file_extension": ".py",
   "mimetype": "text/x-python",
   "name": "python",
   "nbconvert_exporter": "python",
   "pygments_lexer": "ipython3",
   "version": "3.8.8"
  },
  "orig_nbformat": 4
 },
 "nbformat": 4,
 "nbformat_minor": 2
}
