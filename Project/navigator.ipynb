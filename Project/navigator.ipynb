{
 "cells": [
  {
   "cell_type": "code",
   "execution_count": 10,
   "metadata": {},
   "outputs": [],
   "source": [
    "import time\n",
    "from bs4 import BeautifulSoup\n",
    "\n",
    "from selenium import webdriver\n",
    "from selenium.common.exceptions import ElementNotInteractableException\n",
    "from selenium.webdriver.chrome.service import Service\n",
    "from selenium.webdriver.common.by import By\n",
    "from webdriver_manager.chrome import ChromeDriverManager\n",
    "\n",
    "class KakaoRouteFinder:\n",
    "    def __init__(self):\n",
    "        self.driver = webdriver.Chrome(service=Service(ChromeDriverManager().install()))\n",
    "\n",
    "    def find_routes(self, origin, dest):\n",
    "        print(origin, dest)\n",
    "\n",
    "        base_url = f\"https://map.kakao.com/?map_type=TYPE_MAP&target=bike&sName={origin}&eName={dest}\"\n",
    "        self.driver.get(base_url)\n",
    "        time.sleep(0.2)\n",
    "\n",
    "        self.driver.find_element(by=By.CSS_SELECTOR, value=\"body\").click()\n",
    "        time.sleep(0.5)\n",
    "        \n",
    "        try:\n",
    "            dimmed_layer_selector = \"#dimmedLayer\"\n",
    "            self.driver.find_element(\n",
    "                by=By.CSS_SELECTOR,\n",
    "            value=dimmed_layer_selector\n",
    "            ).click()\n",
    "        except ElementNotInteractableException:\n",
    "            pass\n",
    "\n",
    "        def fetch_bike():\n",
    "            print(\" > bike\")\n",
    "            self.driver.find_element(by=By.CSS_SELECTOR, value=f\"div.BikeRouteResultView > ul > li:nth-child(1)\").click()        \n",
    "            time.sleep(0.2)\n",
    "            self.driver.find_element(by=By.CSS_SELECTOR, value=f\"div.BikeRouteResultView > ul > li:nth-child(2)\").click()        \n",
    "            time.sleep(0.2)\n",
    "            self.driver.find_element(by=By.CSS_SELECTOR, value=f\"div.BikeRouteResultView > ul > li:nth-child(3)\").click()        \n",
    "            time.sleep(0.2)\n",
    "\n",
    "            element = self.driver.find_element(by=By.CSS_SELECTOR, value=f\"div.BikeRouteResultView\")\n",
    "            return element.get_attribute('innerHTML')\n",
    "        \n",
    "        def fetch_walk():\n",
    "            print(\" > walk\")\n",
    "            self.driver.find_element(by=By.CSS_SELECTOR, value=f\"#walktab\").click()\n",
    "            time.sleep(0.5)\n",
    "\n",
    "            element = self.driver.find_element(by=By.CSS_SELECTOR, value=f\"div.WalkRouteResultView\")\n",
    "            return element.get_attribute('innerHTML')\n",
    "            \n",
    "        def fetch_transit():\n",
    "            print(\" > transit\")\n",
    "            self.driver.find_element(by=By.CSS_SELECTOR, value=f\"#transittab\").click()\n",
    "            time.sleep(0.5)\n",
    "\n",
    "            element = self.driver.find_element(by=By.CSS_SELECTOR, value=f\"ul.TransitTotalPanel\")\n",
    "            return element.get_attribute('innerHTML')\n",
    "\n",
    "        try:\n",
    "            return {\n",
    "                'bike': fetch_bike(),\n",
    "                'walk': fetch_walk(),\n",
    "                'transit': fetch_transit()\n",
    "            }\n",
    "        except:\n",
    "            print('error')\n",
    "\n",
    "    def __del__(self):\n",
    "        self.driver.close()\n"
   ]
  },
  {
   "cell_type": "code",
   "execution_count": 11,
   "metadata": {},
   "outputs": [
    {
     "name": "stderr",
     "output_type": "stream",
     "text": [
      "\n",
      "\n",
      "====== WebDriver manager ======\n",
      "Current google-chrome version is 101.0.4951\n",
      "Get LATEST chromedriver version for 101.0.4951 google-chrome\n",
      "Driver [C:\\Users\\lucet\\.wdm\\drivers\\chromedriver\\win32\\101.0.4951.41\\chromedriver.exe] found in cache\n"
     ]
    },
    {
     "name": "stdout",
     "output_type": "stream",
     "text": [
      "대한건축학회 서울대학교 자하연\n",
      " > bike\n",
      " > walk\n",
      " > transit\n"
     ]
    }
   ],
   "source": [
    "routes = KakaoRouteFinder().find_routes('대한건축학회', '서울대학교 자하연')"
   ]
  },
  {
   "cell_type": "markdown",
   "metadata": {},
   "source": [
    "### Bike"
   ]
  },
  {
   "cell_type": "code",
   "execution_count": 12,
   "metadata": {},
   "outputs": [
    {
     "name": "stdout",
     "output_type": "stream",
     "text": [
      "{'mode': '자전거 도로우선', 'time': '39분', 'distance': '6.4km', 'altitude': '고도 최저 17m, 최고 128m', 'calories': '234kcal'}\n",
      "{'mode': '최단거리', 'time': '38분', 'distance': '6.1km', 'altitude': '고도 최저 17m, 최고 135m', 'calories': '228kcal'}\n",
      "{'mode': '편안한길', 'time': '39분', 'distance': '6.4km', 'altitude': '고도 최저 17m, 최고 128m', 'calories': '234kcal'}\n"
     ]
    }
   ],
   "source": [
    "soup = BeautifulSoup(routes['bike'], 'html.parser')\n",
    "for route in (soup.find_all('li', {\"class\": \"BikeRouteItem\"})):\n",
    "    res = {\n",
    "        \"mode\": route.find('span', {\"class\": \"mode\"}).text,\n",
    "        \"time\": route.find('span', {\"class\": \"time\"}).text.strip(),\n",
    "        \"distance\": route.find('span', {\"class\": \"distance\"}).text,\n",
    "        \"altitude\": route.find('span', {\"class\": \"altitude\"}).text,\n",
    "        \"calories\": route.find('span', {\"class\": \"calories\"}).text,\n",
    "    }\n",
    "    print(res)"
   ]
  },
  {
   "cell_type": "markdown",
   "metadata": {},
   "source": [
    "### Transit"
   ]
  },
  {
   "cell_type": "code",
   "execution_count": 13,
   "metadata": {},
   "outputs": [
    {
     "name": "stdout",
     "output_type": "stream",
     "text": [
      "{'time': '35분', 'info': '도보18분 | 환승1회 | 요금 1,250원 | 7.6km'}\n",
      "{'time': '41분', 'info': '도보13분 | 환승1회 | 요금 1,200원 | 7.3km'}\n",
      "{'time': '39분', 'info': '도보19분 | 환승1회 | 요금 1,250원 | 8.2km'}\n",
      "{'time': '40분', 'info': '도보20분 | 환승1회 | 요금 1,250원 | 7.8km'}\n",
      "{'time': '43분', 'info': '도보12분 | 환승1회 | 요금 1,200원 | 7.5km'}\n",
      "{'time': '39분', 'info': '도보24분 | 환승1회 | 요금 1,250원 | 7.5km'}\n",
      "{'time': '46분', 'info': '도보14분 | 환승1회 | 요금 1,200원 | 8.1km'}\n",
      "{'time': '42분', 'info': '도보14분 | 환승1회 | 요금 1,200원 | 7.3km'}\n",
      "{'time': '44분', 'info': '도보17분 | 환승1회 | 요금 1,200원 | 7.2km'}\n",
      "{'time': '34분', 'info': '도보15분 | 환승2회 | 요금 1,250원 | 7.8km'}\n"
     ]
    }
   ],
   "source": [
    "soup = BeautifulSoup(routes['transit'], 'html.parser')\n",
    "for route in (soup.find_all('li', {\"class\": \"TransitRouteItem\"})):\n",
    "    res = {\n",
    "        \"time\": route.find('span', {\"class\": \"time\"}).text.strip(),\n",
    "        \"info\": route.find('span', {\"class\": \"walkTime\"}).get('title'),\n",
    "    }\n",
    "    print(res)"
   ]
  },
  {
   "cell_type": "markdown",
   "metadata": {},
   "source": [
    "### Walk"
   ]
  },
  {
   "cell_type": "code",
   "execution_count": 14,
   "metadata": {},
   "outputs": [
    {
     "name": "stdout",
     "output_type": "stream",
     "text": [
      "{'mode': '큰길우선', 'time': '1시간 34분', 'info': '계단 1회\\n281kcal소모'}\n",
      "{'mode': '최단거리', 'time': '1시간 26분', 'info': '계단 1회\\n257kcal소모'}\n",
      "{'mode': '편안한길', 'time': '1시간 35분', 'info': '285kcal소모'}\n"
     ]
    }
   ],
   "source": [
    "soup = BeautifulSoup(routes['walk'], 'html.parser')\n",
    "for route in (soup.find_all('li', {\"class\": \"WalkRouteItem\"})):\n",
    "    res = {\n",
    "        \"mode\": route.find('span', {\"class\": \"mode\"}).text,\n",
    "        \"time\": route.find('span', {\"class\": \"time\"}).text.strip(),\n",
    "        \"info\": route.find('div', {\"class\": \"info\"}).text.strip(),\n",
    "    }\n",
    "    print(res)"
   ]
  },
  {
   "cell_type": "code",
   "execution_count": null,
   "metadata": {},
   "outputs": [],
   "source": []
  }
 ],
 "metadata": {
  "interpreter": {
   "hash": "7357ee85ff53903ea5241e3726a4915c92f341c2a9829a664afcec1d7a92746d"
  },
  "kernelspec": {
   "display_name": "Python 3.8.8 ('base')",
   "language": "python",
   "name": "python3"
  },
  "language_info": {
   "codemirror_mode": {
    "name": "ipython",
    "version": 3
   },
   "file_extension": ".py",
   "mimetype": "text/x-python",
   "name": "python",
   "nbconvert_exporter": "python",
   "pygments_lexer": "ipython3",
   "version": "3.8.8"
  },
  "orig_nbformat": 4
 },
 "nbformat": 4,
 "nbformat_minor": 2
}
